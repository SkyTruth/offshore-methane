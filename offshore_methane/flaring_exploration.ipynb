{
 "cells": [
  {
   "cell_type": "code",
   "execution_count": 2,
   "id": "3ff50b72",
   "metadata": {},
   "outputs": [],
   "source": [
    "import ee\n",
    "\n",
    "\n"
   ]
  },
  {
   "cell_type": "code",
   "execution_count": 4,
   "id": "493a3ce5",
   "metadata": {},
   "outputs": [
    {
     "data": {
      "text/html": [
       "<p>To authorize access needed by Earth Engine, open the following\n",
       "        URL in a web browser and follow the instructions:</p>\n",
       "        <p><a href=https://code.earthengine.google.com/client-auth?scopes=https%3A//www.googleapis.com/auth/earthengine%20https%3A//www.googleapis.com/auth/cloud-platform%20https%3A//www.googleapis.com/auth/drive%20https%3A//www.googleapis.com/auth/devstorage.full_control&request_id=ACZybkyg59LOh5M1gfSvyXokcg_1_SNSjXFpg3Q2sTQ&tc=CkrCGJWiJaeFcFVRsZbLZoIv_91g6PRZGN3CQLIRGzg&cc=tRiTYFZnwGBmL5SECQXwP5VSGLOt8HTAu9edmXMbFbg>https://code.earthengine.google.com/client-auth?scopes=https%3A//www.googleapis.com/auth/earthengine%20https%3A//www.googleapis.com/auth/cloud-platform%20https%3A//www.googleapis.com/auth/drive%20https%3A//www.googleapis.com/auth/devstorage.full_control&request_id=ACZybkyg59LOh5M1gfSvyXokcg_1_SNSjXFpg3Q2sTQ&tc=CkrCGJWiJaeFcFVRsZbLZoIv_91g6PRZGN3CQLIRGzg&cc=tRiTYFZnwGBmL5SECQXwP5VSGLOt8HTAu9edmXMbFbg</a></p>\n",
       "        <p>The authorization workflow will generate a code, which you should paste in the box below.</p>\n",
       "        "
      ],
      "text/plain": [
       "<IPython.core.display.HTML object>"
      ]
     },
     "metadata": {},
     "output_type": "display_data"
    },
    {
     "name": "stdout",
     "output_type": "stream",
     "text": [
      "\n",
      "Successfully saved authorization token.\n"
     ]
    }
   ],
   "source": [
    "ee.Authenticate(force=True)"
   ]
  },
  {
   "cell_type": "code",
   "execution_count": 6,
   "id": "cbd3a9a1",
   "metadata": {},
   "outputs": [],
   "source": [
    "ee.Initialize(project = \"benshostak-skytruth\")"
   ]
  },
  {
   "cell_type": "code",
   "execution_count": 7,
   "id": "7e9ea022",
   "metadata": {},
   "outputs": [],
   "source": [
    "s2 = (ee.ImageCollection('COPERNICUS/S2_HARMONIZED')\n",
    "     .filterBounds(ee.Geometry.Point([102.98709, 7.59255]))\n",
    "     .filterDate('2024-01-01','2025-01-01').first())"
   ]
  },
  {
   "cell_type": "code",
   "execution_count": null,
   "id": "fec45edc",
   "metadata": {},
   "outputs": [],
   "source": [
    "eeMap.addLayer"
   ]
  }
 ],
 "metadata": {
  "kernelspec": {
   "display_name": "methane",
   "language": "python",
   "name": "python3"
  },
  "language_info": {
   "codemirror_mode": {
    "name": "ipython",
    "version": 3
   },
   "file_extension": ".py",
   "mimetype": "text/x-python",
   "name": "python",
   "nbconvert_exporter": "python",
   "pygments_lexer": "ipython3",
   "version": "3.13.3"
  }
 },
 "nbformat": 4,
 "nbformat_minor": 5
}
