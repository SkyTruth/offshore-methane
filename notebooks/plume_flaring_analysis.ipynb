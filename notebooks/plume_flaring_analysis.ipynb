{
 "cells": [
  {
   "cell_type": "code",
   "execution_count": null,
   "id": "ba363dbd",
   "metadata": {},
   "outputs": [],
   "source": [
    "import pandas as pd\n",
    "import geopandas as gpd\n",
    "from shapely.geometry import Point\n",
    "import ast\n",
    "import matplotlib.pyplot as plt\n",
    "from shapely.geometry import shape, Point\n",
    "import json\n",
    "from shapely import wkt\n",
    "\n",
    "from preview import *"
   ]
  },
  {
   "cell_type": "code",
   "execution_count": null,
   "id": "ce12f705",
   "metadata": {},
   "outputs": [],
   "source": [
    "plume_flaring = pd.read_csv(r\"\")\n",
    "plume_flaring[\"granule_date\"] = pd.to_datetime(plume_flaring[\"system_index\"].str[:8], format=\"%Y%m%d\", errors=\"coerce\")\n",
    "plume_flaring = plume_flaring[plume_flaring['cloud_fraction']<15]\n",
    "plume_flaring['flare_latlon'] = plume_flaring['flare_latlon'].apply(ast.literal_eval)\n",
    "plume_flaring = plume_flaring[plume_flaring['flare_latlon'].apply(lambda x : len(x) != 0 )]\n",
    "plume_flaring['flare_latlon'] = plume_flaring['flare_latlon'].apply(lambda c: Point(c[0],c[1]) if isinstance(c[0],float) else Point(c[0][0],c[0][1]))\n",
    "\n",
    "#Use if the data has geometry in .geo column\n",
    "try:\n",
    "    plume_flaring[\"geometry\"] = plume_flaring[\".geo\"].apply(lambda x: shape(json.loads(x)))\n",
    "    plume_flaring_gdf = gpd.GeoDataFrame(plume_flaring, geometry=\"geometry\", crs=\"EPSG:4326\")  # assuming lat/lon\n",
    "    plume_flaring_gdf['flare_latlon_meters'] = gpd.GeoSeries(plume_flaring_gdf[\"flare_latlon\"], crs=\"EPSG:4326\").to_crs(3857)\n",
    "except:\n",
    "    #Use if the data has an existing geometry columns\n",
    "    plume_flaring[\"geometry\"] = plume_flaring[\"geometry\"].apply(wkt.loads)\n",
    "    plume_flaring_gdf = gpd.GeoDataFrame(plume_flaring, geometry=\"geometry\", crs=\"EPSG:4326\")  # assuming lat/lon\n",
    "    plume_flaring_gdf['flare_latlon_meters'] = gpd.GeoSeries(plume_flaring_gdf[\"flare_latlon\"], crs=\"EPSG:4326\").to_crs(3857)\n",
    "\n",
    "# plume_flaring_gdf = assign_group_ids(plume_flaring_gdf)\n",
    "# plume_flaring_gdf['note'] = \"\""
   ]
  },
  {
   "cell_type": "code",
   "execution_count": null,
   "id": "6a3edb68",
   "metadata": {},
   "outputs": [],
   "source": [
    "granule_start = plume_flaring_gdf.groupby('structure_id').apply(lambda g:g[g['structure_present']==1]['granule_date'].min().date())\n",
    "granule_end = plume_flaring_gdf.groupby('structure_id').apply(lambda g:g[g['structure_present']==1]['granule_date'].max().date())\n",
    "\n",
    "# gfw_start = plume_flaring_gdf.groupby('structure_id').apply(lambda g: g.iloc[0]['structure_start_date'].date())\n",
    "# gfw_end = plume_flaring_gdf.groupby('structure_id').apply(lambda g: g.iloc[0]['structure_end_date'].date())\n",
    "\n",
    "total_counts = plume_flaring_gdf.groupby(\"structure_id\").size()\n",
    "flare_counts = plume_flaring_gdf[plume_flaring_gdf[\"flare_present\"] > 0].groupby(\"structure_id\").size()\n",
    "present_counts = plume_flaring_gdf[plume_flaring_gdf[\"structure_present\"] > 0].groupby(\"structure_id\").size()\n",
    "\n",
    "summary = pd.DataFrame({\n",
    "    \"total\": total_counts,\n",
    "    \"flare_count\": flare_counts,\n",
    "    \"present_count\": present_counts,\n",
    "    # \"starting_presence\": granule_start,\n",
    "    # \"ending_presence\": granule_end,\n",
    "    # \"gfw_start\": gfw_start,\n",
    "    # \"gfw_end\": gfw_end,\n",
    "}).fillna(0)  # fill NaN where no matches\n",
    "\n",
    "# compute percentages\n",
    "summary[\"flare_percent\"] = (summary[\"flare_count\"] / summary[\"total\"]) * 100\n",
    "summary[\"present_percent\"] = (summary[\"present_count\"] / summary[\"total\"]) * 100\n",
    "summary[\"flare%_of_present\"] = (summary[\"flare_count\"] / summary[\"present_count\"]) * 100\n"
   ]
  },
  {
   "cell_type": "code",
   "execution_count": null,
   "id": "04ffbf8b",
   "metadata": {},
   "outputs": [],
   "source": [
    "summary = summary[summary['present_percent']>10]\n",
    "summary = summary[summary['flare%_of_present']>10]\n",
    "# summary"
   ]
  },
  {
   "cell_type": "markdown",
   "id": "392a167a",
   "metadata": {},
   "source": [
    "Flaring lat/lon analysis"
   ]
  },
  {
   "cell_type": "code",
   "execution_count": null,
   "id": "d4796413",
   "metadata": {},
   "outputs": [],
   "source": [
    "TAI_cutoff = .5"
   ]
  },
  {
   "cell_type": "code",
   "execution_count": null,
   "id": "115d8916",
   "metadata": {},
   "outputs": [],
   "source": [
    "# Make sure your gdf has a CRS\n",
    "# If flare_latlon is just geometries, assign WGS84 (EPSG:4326) if not already\n",
    "gdf_m = plume_flaring_gdf.set_geometry(\"flare_latlon_meters\")\n",
    "gdf_m[\"x\"] = gdf_m.geometry.x\n",
    "gdf_m[\"y\"] = gdf_m.geometry.y\n",
    "\n",
    "# Group by structure_id and compute mean and std in meters\n",
    "stats = gdf_m[gdf_m['max_TAI']>=TAI_cutoff].groupby(\"structure_id\").agg(\n",
    "# stats = gdf_m[gdf_m['flare_present']==1].groupby(\"structure_id\").agg(\n",
    "    mean_x=(\"x\", \"mean\"),\n",
    "    mean_y=(\"y\", \"mean\"),\n",
    "    std_x=(\"x\", \"std\"),\n",
    "    std_y=(\"y\", \"std\"),\n",
    "    count=(\"x\", \"size\"),\n",
    ").reset_index()\n",
    "\n",
    "# Convert mean_x, mean_y back to lat/lon for interpretation\n",
    "flare_centroids = gpd.GeoDataFrame(\n",
    "    stats,\n",
    "    geometry=gpd.points_from_xy(stats[\"mean_x\"], stats[\"mean_y\"], crs=\"EPSG:3857\"),\n",
    ")\n",
    "flare_centroids = flare_centroids.to_crs(\"EPSG:4326\")  # back to lat/lon\n",
    "\n",
    "# Add lat/lon columns\n",
    "flare_centroids[\"mean_lat\"] = flare_centroids.geometry.y\n",
    "flare_centroids[\"mean_lon\"] = flare_centroids.geometry.x\n",
    "\n",
    "flaring_centroid_merged = plume_flaring_gdf.merge(\n",
    "    flare_centroids.to_crs(3857)[[\"structure_id\", \"geometry\"]],\n",
    "    on=\"structure_id\",\n",
    "    how=\"left\",\n",
    "    suffixes=(\"\", \"_flare_centroid\")\n",
    ")\n",
    "# Now compute distance (meters) between point and centroid\n",
    "flaring_centroid_merged[\"dist_to_centroid\"] = flaring_centroid_merged[\"flare_latlon_meters\"].distance(flaring_centroid_merged[\"geometry_flare_centroid\"])\n"
   ]
  },
  {
   "cell_type": "code",
   "execution_count": null,
   "id": "916051b3",
   "metadata": {},
   "outputs": [],
   "source": [
    "summary.sort_values('flare_percent', ascending=False).head(5)"
   ]
  },
  {
   "cell_type": "code",
   "execution_count": null,
   "id": "230122c4",
   "metadata": {},
   "outputs": [],
   "source": [
    "example_struct = 499780"
   ]
  },
  {
   "cell_type": "code",
   "execution_count": null,
   "id": "79e2ffac",
   "metadata": {},
   "outputs": [],
   "source": [
    "example_merged = flaring_centroid_merged[flaring_centroid_merged['structure_id']==example_struct]\n",
    "\n",
    "plt.figure(figsize=(6,6))\n",
    "plt.scatter(\n",
    "    flaring_centroid_merged[\"max_TAI\"],\n",
    "    flaring_centroid_merged[\"dist_to_centroid\"],\n",
    "    alpha=0.5,\n",
    "    s=0.1\n",
    ")\n",
    "plt.scatter(\n",
    "    example_merged[\"max_TAI\"],\n",
    "    example_merged[\"dist_to_centroid\"],\n",
    "    alpha=1,\n",
    ")\n",
    "\n",
    "plt.xlabel(\"Max TAI (max flaring signal)\")\n",
    "plt.ylabel(\"Distance from Flare mean\")\n",
    "plt.title(\"Scatter of max_TAI vs dist_to_centroid\")\n",
    "\n",
    "# Set axis limits\n",
    "plt.xlim(-.5, 10)\n",
    "# plt.ylim(-1, 1)\n",
    "\n",
    "# Add reference lines\n",
    "plt.axvline(x=TAI_cutoff, color=\"red\", linestyle=\"--\", linewidth=1)\n",
    "# plt.axhline(y=40, color=\"blue\", linestyle=\"--\", linewidth=1)\n",
    "plt.axhline(y=40, color=\"blue\", linestyle=\":\", linewidth=1)\n",
    "\n",
    "plt.grid(True)\n",
    "plt.show()\n"
   ]
  },
  {
   "cell_type": "code",
   "execution_count": null,
   "id": "318aea84",
   "metadata": {},
   "outputs": [],
   "source": [
    "example_structure = flaring_centroid_merged[flaring_centroid_merged['structure_id'] == example_struct]\n",
    "example_structure['flaring'] = example_structure['flare_present']\n",
    "example_structure_timeline = create_structure_flaring_timeline(example_structure, flare_override_absent=False)\n",
    "plot_structure_flaring_timeline(example_structure_timeline)\n",
    "\n",
    "example_structure['flaring'] = ((example_structure['max_TAI'] > .01) & (example_structure['dist_to_centroid'] < 40) | (example_structure['max_TAI'] > .5))\n",
    "example_structure_timeline = create_structure_flaring_timeline(example_structure)\n",
    "plot_structure_flaring_timeline(example_structure_timeline)\n",
    "\n",
    "example_structure['flaring'] = ((example_structure['max_TAI'] > .01) & (example_structure['dist_to_centroid'] < 40) | (example_structure['max_TAI'] > .5))\n",
    "example_structure_timeline = create_structure_flaring_timeline(example_structure, filter_outlier = True)\n",
    "plot_structure_flaring_timeline(example_structure_timeline)\n",
    "\n",
    "example_structure['flaring'] = ((example_structure['max_TAI'] > .01) & (example_structure['dist_to_centroid'] < 40) | (example_structure['max_TAI'] > .5))\n",
    "example_structure_timeline = create_structure_flaring_timeline(example_structure, filter_outlier = True)\n",
    "plot_structure_flaring_timeline(example_structure_timeline, magnitude_col='max_TAI', max_mag=1)"
   ]
  },
  {
   "cell_type": "code",
   "execution_count": null,
   "id": "3a5d5994",
   "metadata": {},
   "outputs": [],
   "source": [
    "state_blocks = extract_state_blocks(example_structure_timeline)\n",
    "plot_state_blocks(state_blocks)"
   ]
  },
  {
   "cell_type": "code",
   "execution_count": null,
   "id": "a04f9f70",
   "metadata": {},
   "outputs": [],
   "source": [
    "sid_data = gdf_to_sid_list(example_structure_timeline)\n",
    "# sid_data = add_glint_alpha(sid_data)\n"
   ]
  },
  {
   "cell_type": "code",
   "execution_count": null,
   "id": "c9797054",
   "metadata": {},
   "outputs": [],
   "source": [
    "sid_pd = pd.DataFrame(sid_data)"
   ]
  },
  {
   "cell_type": "code",
   "execution_count": null,
   "id": "8939337d",
   "metadata": {},
   "outputs": [],
   "source": [
    "\n",
    "b11 = 3000\n",
    "state = show_granule_viewer(\n",
    "    sid_data,\n",
    "    b11_b12_max=[b11, b11],\n",
    "    zoom=16,\n",
    "    mbsp_min_max=[-0.15, 0.15],\n",
    "    extra_gdf=flare_centroids,\n",
    "    starting_idx=0\n",
    "    # extra_gdf=gfw_gdf,\n",
    ")"
   ]
  }
 ],
 "metadata": {
  "kernelspec": {
   "display_name": "methane",
   "language": "python",
   "name": "python3"
  },
  "language_info": {
   "codemirror_mode": {
    "name": "ipython",
    "version": 3
   },
   "file_extension": ".py",
   "mimetype": "text/x-python",
   "name": "python",
   "nbconvert_exporter": "python",
   "pygments_lexer": "ipython3",
   "version": "3.13.3"
  }
 },
 "nbformat": 4,
 "nbformat_minor": 5
}
