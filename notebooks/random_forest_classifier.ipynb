{
 "cells": [
  {
   "cell_type": "markdown",
   "id": "ab83eb96",
   "metadata": {},
   "source": [
    "# Random Forest Methane Classifier\n",
    "\n",
    "This notebook trains a random forest model on Sentinel-2 imagery to predict high methane probability. All TOA bands are used as features along with the engineered MBSP fractional signal."
   ]
  },
  {
   "cell_type": "markdown",
   "id": "67891997",
   "metadata": {},
   "source": [
    "## Setup"
   ]
  },
  {
   "cell_type": "code",
   "execution_count": null,
   "id": "732e2eab",
   "metadata": {},
   "outputs": [],
   "source": [
    "import datetime as dt\n",
    "\n",
    "import ee\n",
    "import geemap\n",
    "\n",
    "# Authenticate with Earth Engine\n",
    "ee.Authenticate()\n",
    "ee.Initialize()"
   ]
  },
  {
   "cell_type": "markdown",
   "id": "d351f702",
   "metadata": {},
   "source": [
    "## Helper Functions"
   ]
  },
  {
   "cell_type": "code",
   "execution_count": null,
   "id": "ea4c356a",
   "metadata": {},
   "outputs": [],
   "source": [
    "def mask_s2_clouds(image: ee.Image) -> ee.Image:\n",
    "    \"\"\"Mask clouds using the QA60 band.\"\"\"\n",
    "    qa = image.select(\"QA60\")\n",
    "    cloud_bit_mask = 1 << 10\n",
    "    cirrus_bit_mask = 1 << 11\n",
    "    mask = qa.bitwiseAnd(cloud_bit_mask).eq(0).And(qa.bitwiseAnd(cirrus_bit_mask).eq(0))\n",
    "    masked = image.updateMask(mask).divide(10000)\n",
    "    return masked.copyProperties(image, image.propertyNames())"
   ]
  },
  {
   "cell_type": "code",
   "execution_count": null,
   "id": "a3b71a04",
   "metadata": {},
   "outputs": [],
   "source": [
    "def mbsp_fractional_image(image: ee.Image, region: ee.Geometry) -> ee.Image:\n",
    "    \"\"\"Compute the MBSP fractional methane signal for a Sentinel-2 scene.\"\"\"\n",
    "    num_img = image.select(\"B11\").multiply(image.select(\"B12\"))\n",
    "    den_img = image.select(\"B12\").multiply(image.select(\"B12\"))\n",
    "    num_sum = num_img.reduceRegion(reducer=ee.Reducer.sum(), geometry=region, scale=20, bestEffort=True)\n",
    "    den_sum = den_img.reduceRegion(reducer=ee.Reducer.sum(), geometry=region, scale=20, bestEffort=True)\n",
    "    slope = ee.Number(num_sum.get(\"B11\")).divide(ee.Number(den_sum.get(\"B12\")))\n",
    "    mbsp = image.select(\"B12\").multiply(slope).subtract(image.select(\"B11\")).divide(image.select(\"B11\")).rename(\"R\")\n",
    "    return mbsp.set({\"slope\": slope})"
   ]
  },
  {
   "cell_type": "markdown",
   "id": "6511804e",
   "metadata": {},
   "source": [
    "## Image Selection"
   ]
  },
  {
   "cell_type": "code",
   "execution_count": null,
   "id": "3d85d628",
   "metadata": {},
   "outputs": [],
   "source": [
    "# Location and date range\n",
    "lat, lon = 31.6585, 5.9053\n",
    "start = dt.date(2019, 10, 1)\n",
    "end = dt.date(2019, 10, 15)\n",
    "\n",
    "point = ee.Geometry.Point(lon, lat)\n",
    "collection = (\n",
    "    ee.ImageCollection(\"COPERNICUS/S2_SR_HARMONIZED\")\n",
    "    .filterDate(str(start), str(end))\n",
    "    .filterBounds(point)\n",
    "    .filter(ee.Filter.lt(\"CLOUDY_PIXEL_PERCENTAGE\", 20))\n",
    "    .sort(\"system:time_start\")\n",
    "    .map(mask_s2_clouds)\n",
    ")\n",
    "\n",
    "images = collection.toList(collection.size())\n",
    "count = images.size().getInfo()\n",
    "print(f\"Found {count} images\")"
   ]
  },
  {
   "cell_type": "markdown",
   "id": "a6f85c0d",
   "metadata": {},
   "source": [
    "## Training Data"
   ]
  },
  {
   "cell_type": "code",
   "execution_count": null,
   "id": "ad9993fc",
   "metadata": {},
   "outputs": [],
   "source": [
    "band_names = ee.Image(images.get(0)).bandNames()\n",
    "region = point.buffer(1000).bounds()\n",
    "img = ee.Image(images.get(0))\n",
    "mbsp_img = mbsp_fractional_image(img, region)\n",
    "\n",
    "# Threshold to define high methane pixels\n",
    "label_img = mbsp_img.lt(-0.02).rename(\"label\")\n",
    "\n",
    "# Stack features and label\n",
    "training_img = img.addBands(mbsp_img).addBands(label_img)\n",
    "\n",
    "# Sample training data\n",
    "train_samples = training_img.sample(region=region, scale=20, numPixels=500, seed=1)"
   ]
  },
  {
   "cell_type": "markdown",
   "id": "011c32c4",
   "metadata": {},
   "source": [
    "## Random Forest Model"
   ]
  },
  {
   "cell_type": "code",
   "execution_count": null,
   "id": "df62210c",
   "metadata": {},
   "outputs": [],
   "source": [
    "classifier = ee.Classifier.smileRandomForest(numberOfTrees=50).setOutputMode(\"PROBABILITY\")\n",
    "trained = classifier.train(train_samples, \"label\", band_names.add(\"R\"))"
   ]
  },
  {
   "cell_type": "markdown",
   "id": "f4d4893a",
   "metadata": {},
   "source": [
    "## Classification"
   ]
  },
  {
   "cell_type": "code",
   "execution_count": null,
   "id": "7593d267",
   "metadata": {},
   "outputs": [],
   "source": [
    "probability = img.addBands(mbsp_img).select(band_names.add(\"R\")).classify(trained)"
   ]
  },
  {
   "cell_type": "markdown",
   "id": "f4ecc3e2",
   "metadata": {},
   "source": [
    "## Visualize"
   ]
  },
  {
   "cell_type": "code",
   "execution_count": null,
   "id": "2753f310",
   "metadata": {},
   "outputs": [],
   "source": [
    "m = geemap.Map(center=(lat, lon), zoom=12)\n",
    "prob_vis = {\"min\": 0, \"max\": 1, \"palette\": [\"white\", \"red\"]}\n",
    "m.addLayer(probability, prob_vis, \"methane probability\")\n",
    "m.addLayer(img.select([\"B4\", \"B3\", \"B2\"]), {\"min\": 0, \"max\": 0.3}, \"RGB\", False)\n",
    "m"
   ]
  }
 ],
 "metadata": {
  "kernelspec": {
   "display_name": "methane",
   "language": "python",
   "name": "python3"
  },
  "language_info": {
   "codemirror_mode": {
    "name": "ipython",
    "version": 3
   },
   "file_extension": ".py",
   "mimetype": "text/x-python",
   "name": "python",
   "nbconvert_exporter": "python",
   "pygments_lexer": "ipython3",
   "version": "3.13.3"
  }
 },
 "nbformat": 4,
 "nbformat_minor": 5
}
