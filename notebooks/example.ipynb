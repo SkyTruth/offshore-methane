{
 "cells": [
  {
   "cell_type": "markdown",
   "metadata": {},
   "source": [
    "# Example Notebook\n",
    "Authenticate with Earth Engine and display an image."
   ]
  },
  {
   "cell_type": "code",
   "execution_count": null,
   "metadata": {},
   "outputs": [],
   "source": [
    "import ee\n",
    "ee.Initialize()\n",
    "image = ee.Image('COPERNICUS/S2_SR/20240401T000239_20240401T000236_T56MNN')\n",
    "image.getInfo()"
   ]
  },
  {
   "cell_type": "markdown",
   "id": "8cd7625e",
   "metadata": {},
   "source": [
    "## Basic MBSP retrieval\n",
    "Compute the methane band ratio using Sentinel-2 bands 11 and 12."
   ]
  },
  {
   "cell_type": "code",
   "execution_count": null,
   "id": "1a48ad05",
   "metadata": {},
   "outputs": [],
   "source": [
    "import numpy as np\n",
    "\n",
    "# Simulated band data\n",
    "b11 = np.random.rand(100, 100)\n",
    "b12 = np.random.rand(100, 100)\n",
    "\n",
    "# Scene-wide linear fit coefficient\n",
    "a = (b12 * b11).sum() / (b11 ** 2).sum()\n",
    "mbsp_raw = (b12 - a * b11) / b11\n",
    "mbsp_raw.mean()"
   ]
  },
  {
   "cell_type": "markdown",
   "id": "1a20ba88",
   "metadata": {},
   "source": [
    "## Advanced retrieval with water vapour correction\n",
    "Use bands 8, 9, and 10 to remove per-pixel water vapour and flare signals."
   ]
  },
  {
   "cell_type": "code",
   "execution_count": null,
   "id": "65ab5b55",
   "metadata": {},
   "outputs": [],
   "source": [
    "b8 = np.random.rand(100, 100)\n",
    "b9 = np.random.rand(100, 100)\n",
    "b10 = np.random.rand(100, 100)\n",
    "\n",
    "W = (b8 - b9) / b8\n",
    "C = (b8 - b10) / b8\n",
    "\n",
    "alpha = 0.20\n",
    "beta = 0.05\n",
    "eta = 1.2\n",
    "\n",
    "mbsp_corr = mbsp_raw + alpha * W + beta * np.maximum(C - eta * W, 0)\n",
    "mbsp_corr.mean()"
   ]
  }
 ],
 "metadata": {
  "kernelspec": {
   "display_name": "Python 3",
   "language": "python",
   "name": "python3"
  },
  "language_info": {
   "name": "python",
   "version": "3.10"
  }
 },
 "nbformat": 4,
 "nbformat_minor": 2
}
