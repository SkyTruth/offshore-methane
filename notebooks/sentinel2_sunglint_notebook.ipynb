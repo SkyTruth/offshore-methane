{
 "cells": [
  {
   "cell_type": "markdown",
   "id": "c1cf696c",
   "metadata": {},
   "source": [
    "# Sentinel-2 Sunglint Finder with Earth Engine Python API\n",
    "\n",
    "This notebook shows how to find Sentinel-2 scenes over sunglint geometry using the Earth Engine Python API.  \n",
    "Adjust the `bbox`, `start_date`, `end_date`, and other parameters as needed.\n"
   ]
  },
  {
   "cell_type": "code",
   "execution_count": 1,
   "id": "588b0818",
   "metadata": {},
   "outputs": [
    {
     "name": "stdout",
     "output_type": "stream",
     "text": [
      "Earth Engine initialized.\n"
     ]
    }
   ],
   "source": [
    "# 1. Install and import Earth Engine Python API\n",
    "# Uncomment the following line if running in Colab or a new environment:\n",
    "# !pip install earthengine-api\n",
    "\n",
    "import ee\n",
    "import math\n",
    "\n",
    "# Initialize the Earth Engine client. \n",
    "# If running for the first time, you may need to authenticate:\n",
    "# ee.Authenticate()\n",
    "ee.Initialize()\n",
    "print('Earth Engine initialized.')\n"
   ]
  },
  {
   "cell_type": "code",
   "execution_count": 9,
   "id": "b9c25e48",
   "metadata": {},
   "outputs": [],
   "source": [
    "# 2. Define parameters: bounding box, date range, sunglint threshold, and cloud filter\n",
    "\n",
    "# -------------------------------------------------------------------\n",
    "# Modify these variables as needed:\n",
    "xmin, ymin, xmax, ymax = -80.0, 20.0, -75.0, 25.0  # Example bbox [lon_min, lat_min, lon_max, lat_max]\n",
    "start_date = '2021-06-01'\n",
    "end_date   = '2021-08-31'\n",
    "\n",
    "sun_glint_threshold = 30  # Degrees; scenes with glint angle ≤ this will be selected.\n",
    "max_cloud_cover = 20      # Maximum cloud percentage for initial filter (0-100)\n",
    "# -------------------------------------------------------------------\n",
    "\n",
    "# Create an Earth Engine geometry for the bounding box\n",
    "bbox = ee.Geometry.Rectangle([xmin, ymin, xmax, ymax])\n"
   ]
  },
  {
   "cell_type": "code",
   "execution_count": 10,
   "id": "347653c4",
   "metadata": {},
   "outputs": [
    {
     "name": "stdout",
     "output_type": "stream",
     "text": [
      "Total S2 scenes in date/area filter: 667\n"
     ]
    }
   ],
   "source": [
    "# 3. Load Sentinel-2 L1C collection, filter by date, bounds, and cloud cover\n",
    "\n",
    "s2_collection = (ee.ImageCollection('COPERNICUS/S2')\n",
    "                 .filterDate(start_date, end_date)\n",
    "                 .filterBounds(bbox)\n",
    "                 .filter(ee.Filter.lte('CLOUDY_PIXEL_PERCENTAGE', max_cloud_cover)))\n",
    "\n",
    "print('Total S2 scenes in date/area filter:', s2_collection.size().getInfo())\n"
   ]
  },
  {
   "cell_type": "code",
   "execution_count": null,
   "id": "67c5b1be",
   "metadata": {},
   "outputs": [
    {
     "name": "stdout",
     "output_type": "stream",
     "text": [
      "Added sunGlintAngle band to collection.\n"
     ]
    }
   ],
   "source": [
    "# 4. Define a function to compute and add the sun glint angle band\n",
    "\n",
    "def add_sun_glint_angle(img):\n",
    "    # Convert metadata to radians\n",
    "    sz = ee.Number(img.get('MEAN_SOLAR_ZENITH_ANGLE')).multiply(math.pi/180)\n",
    "    saz = ee.Number(img.get('MEAN_SOLAR_AZIMUTH_ANGLE')).multiply(math.pi/180)\n",
    "    vz = ee.Number(img.get('MEAN_VIEWING_ZENITH_ANGLE')).multiply(math.pi/180)\n",
    "    vaz = ee.Number(img.get('MEAN_VIEWING_AZIMUTH_ANGLE')).multiply(math.pi/180)\n",
    "\n",
    "    # Compute cosines\n",
    "    cos_sum = sz.add(vz).cos()\n",
    "    cos_diff = sz.subtract(vz).cos()\n",
    "\n",
    "    # term1 and term2 for the formula\n",
    "    term1 = cos_sum.add(cos_diff).divide(2)\n",
    "    term2 = cos_sum.subtract(cos_diff).divide(2).multiply(saz.subtract(vaz).cos())\n",
    "\n",
    "    # Sun glint angle in radians\n",
    "    alpha = term1.add(term2).acos()\n",
    "\n",
    "    # Convert to degrees\n",
    "    alpha_deg = alpha.multiply(180/math.pi)\n",
    "\n",
    "    # Create a constant image from alpha_deg, matching img's projection\n",
    "    alpha_img = ee.Image.constant(alpha_deg).rename('sunGlintAngle')                    .reproject(crs=img.select('B4').projection(), scale=20)\n",
    "    return img.addBands(alpha_img)\n",
    "\n",
    "# Map over the collection\n",
    "s2_with_glint = s2_collection.map(add_sun_glint_angle)\n",
    "print('Added sunGlintAngle band to collection.')\n"
   ]
  },
  {
   "cell_type": "code",
   "execution_count": null,
   "id": "98e4bad1",
   "metadata": {},
   "outputs": [],
   "source": []
  },
  {
   "cell_type": "code",
   "execution_count": 23,
   "id": "9ccdf6fb",
   "metadata": {},
   "outputs": [
    {
     "data": {
      "text/plain": [
       "667"
      ]
     },
     "execution_count": 23,
     "metadata": {},
     "output_type": "execute_result"
    }
   ],
   "source": [
    "s2_with_glint.size().getInfo()"
   ]
  },
  {
   "cell_type": "code",
   "execution_count": 24,
   "id": "92916d89",
   "metadata": {},
   "outputs": [
    {
     "name": "stdout",
     "output_type": "stream",
     "text": [
      "Number of glint‐eligible scenes: 0\n"
     ]
    }
   ],
   "source": [
    "# 5. Filter images where the sun glint angle ≤ threshold\n",
    "\n",
    "s2_glint_scenes = s2_with_glint.filter(ee.Filter.lte('sunGlintAngle', sun_glint_threshold))\n",
    "print('Number of glint‐eligible scenes:', s2_glint_scenes.size().getInfo())\n"
   ]
  },
  {
   "cell_type": "code",
   "execution_count": 25,
   "id": "ffac68c0",
   "metadata": {},
   "outputs": [
    {
     "name": "stdout",
     "output_type": "stream",
     "text": [
      "Applied water mask: resulting scenes: 0\n"
     ]
    }
   ],
   "source": [
    "# 6. (Optional) Mask out non-water pixels using JRC Surface Water dataset\n",
    "# Load JRC Global Surface Water Occurrence band (0-100%)\n",
    "jrc = ee.Image('JRC/GSW1_2/GlobalSurfaceWater').select('occurrence')\n",
    "water_mask = jrc.gt(50)  # Keep pixels that are water >50% of the year\n",
    "\n",
    "def mask_non_water(img):\n",
    "    return img.updateMask(water_mask)\n",
    "\n",
    "s2_glint_water = s2_glint_scenes.map(mask_non_water)\n",
    "print('Applied water mask: resulting scenes:', s2_glint_water.size().getInfo())\n"
   ]
  },
  {
   "cell_type": "code",
   "execution_count": 26,
   "id": "b3e8f908",
   "metadata": {},
   "outputs": [
    {
     "ename": "EEException",
     "evalue": "List.get: List is empty (index is 0).",
     "output_type": "error",
     "traceback": [
      "\u001b[31m---------------------------------------------------------------------------\u001b[39m",
      "\u001b[31mHttpError\u001b[39m                                 Traceback (most recent call last)",
      "\u001b[36mFile \u001b[39m\u001b[32mc:\\Users\\ebeva\\AppData\\Local\\anaconda3\\envs\\methane\\Lib\\site-packages\\ee\\data.py:408\u001b[39m, in \u001b[36m_execute_cloud_call\u001b[39m\u001b[34m(call, num_retries)\u001b[39m\n\u001b[32m    407\u001b[39m \u001b[38;5;28;01mtry\u001b[39;00m:\n\u001b[32m--> \u001b[39m\u001b[32m408\u001b[39m   \u001b[38;5;28;01mreturn\u001b[39;00m \u001b[43mcall\u001b[49m\u001b[43m.\u001b[49m\u001b[43mexecute\u001b[49m\u001b[43m(\u001b[49m\u001b[43mnum_retries\u001b[49m\u001b[43m=\u001b[49m\u001b[43mnum_retries\u001b[49m\u001b[43m)\u001b[49m\n\u001b[32m    409\u001b[39m \u001b[38;5;28;01mexcept\u001b[39;00m googleapiclient.errors.HttpError \u001b[38;5;28;01mas\u001b[39;00m e:\n",
      "\u001b[36mFile \u001b[39m\u001b[32mc:\\Users\\ebeva\\AppData\\Local\\anaconda3\\envs\\methane\\Lib\\site-packages\\googleapiclient\\_helpers.py:130\u001b[39m, in \u001b[36mpositional.<locals>.positional_decorator.<locals>.positional_wrapper\u001b[39m\u001b[34m(*args, **kwargs)\u001b[39m\n\u001b[32m    129\u001b[39m         logger.warning(message)\n\u001b[32m--> \u001b[39m\u001b[32m130\u001b[39m \u001b[38;5;28;01mreturn\u001b[39;00m \u001b[43mwrapped\u001b[49m\u001b[43m(\u001b[49m\u001b[43m*\u001b[49m\u001b[43margs\u001b[49m\u001b[43m,\u001b[49m\u001b[43m \u001b[49m\u001b[43m*\u001b[49m\u001b[43m*\u001b[49m\u001b[43mkwargs\u001b[49m\u001b[43m)\u001b[49m\n",
      "\u001b[36mFile \u001b[39m\u001b[32mc:\\Users\\ebeva\\AppData\\Local\\anaconda3\\envs\\methane\\Lib\\site-packages\\googleapiclient\\http.py:938\u001b[39m, in \u001b[36mHttpRequest.execute\u001b[39m\u001b[34m(self, http, num_retries)\u001b[39m\n\u001b[32m    937\u001b[39m \u001b[38;5;28;01mif\u001b[39;00m resp.status >= \u001b[32m300\u001b[39m:\n\u001b[32m--> \u001b[39m\u001b[32m938\u001b[39m     \u001b[38;5;28;01mraise\u001b[39;00m HttpError(resp, content, uri=\u001b[38;5;28mself\u001b[39m.uri)\n\u001b[32m    939\u001b[39m \u001b[38;5;28;01mreturn\u001b[39;00m \u001b[38;5;28mself\u001b[39m.postproc(resp, content)\n",
      "\u001b[31mHttpError\u001b[39m: <HttpError 400 when requesting https://earthengine.googleapis.com/v1/projects/327290216623/value:compute?prettyPrint=false&alt=json returned \"List.get: List is empty (index is 0).\". Details: \"List.get: List is empty (index is 0).\">",
      "\nDuring handling of the above exception, another exception occurred:\n",
      "\u001b[31mEEException\u001b[39m                               Traceback (most recent call last)",
      "\u001b[36mCell\u001b[39m\u001b[36m \u001b[39m\u001b[32mIn[26]\u001b[39m\u001b[32m, line 6\u001b[39m\n\u001b[32m      4\u001b[39m \u001b[38;5;28;01mfor\u001b[39;00m i \u001b[38;5;129;01min\u001b[39;00m \u001b[38;5;28mrange\u001b[39m(\u001b[32m3\u001b[39m):\n\u001b[32m      5\u001b[39m     img = ee.Image(sample_list.get(i))\n\u001b[32m----> \u001b[39m\u001b[32m6\u001b[39m     info = \u001b[43mimg\u001b[49m\u001b[43m.\u001b[49m\u001b[43mgetInfo\u001b[49m\u001b[43m(\u001b[49m\u001b[43m)\u001b[49m  \u001b[38;5;66;03m# Metadata for inspection\u001b[39;00m\n\u001b[32m      7\u001b[39m     \u001b[38;5;28mprint\u001b[39m(\u001b[33mf\u001b[39m\u001b[33m\"\u001b[39m\u001b[33mScene \u001b[39m\u001b[38;5;132;01m{\u001b[39;00mi+\u001b[32m1\u001b[39m\u001b[38;5;132;01m}\u001b[39;00m\u001b[33m ID: \u001b[39m\u001b[38;5;132;01m{\u001b[39;00minfo[\u001b[33m'\u001b[39m\u001b[33mid\u001b[39m\u001b[33m'\u001b[39m]\u001b[38;5;132;01m}\u001b[39;00m\u001b[33m\"\u001b[39m)\n\u001b[32m      8\u001b[39m     glint_stats = img.select(\u001b[33m'\u001b[39m\u001b[33msunGlintAngle\u001b[39m\u001b[33m'\u001b[39m).reduceRegion(\n\u001b[32m      9\u001b[39m         reducer=ee.Reducer.minMax(),\n\u001b[32m     10\u001b[39m         geometry=bbox,\n\u001b[32m     11\u001b[39m         scale=\u001b[32m20\u001b[39m\n\u001b[32m     12\u001b[39m     )\n",
      "\u001b[36mFile \u001b[39m\u001b[32mc:\\Users\\ebeva\\AppData\\Local\\anaconda3\\envs\\methane\\Lib\\site-packages\\ee\\image.py:143\u001b[39m, in \u001b[36mImage.getInfo\u001b[39m\u001b[34m(self)\u001b[39m\n\u001b[32m    135\u001b[39m \u001b[38;5;28;01mdef\u001b[39;00m\u001b[38;5;250m \u001b[39m\u001b[34mgetInfo\u001b[39m(\u001b[38;5;28mself\u001b[39m) -> Optional[Any]:\n\u001b[32m    136\u001b[39m \u001b[38;5;250m  \u001b[39m\u001b[33;03m\"\"\"Fetch and return information about this image.\u001b[39;00m\n\u001b[32m    137\u001b[39m \n\u001b[32m    138\u001b[39m \u001b[33;03m  Returns:\u001b[39;00m\n\u001b[32m   (...)\u001b[39m\u001b[32m    141\u001b[39m \u001b[33;03m        properties - Dictionary containing the image's metadata properties.\u001b[39;00m\n\u001b[32m    142\u001b[39m \u001b[33;03m  \"\"\"\u001b[39;00m\n\u001b[32m--> \u001b[39m\u001b[32m143\u001b[39m   \u001b[38;5;28;01mreturn\u001b[39;00m \u001b[38;5;28;43msuper\u001b[39;49m\u001b[43m(\u001b[49m\u001b[43m)\u001b[49m\u001b[43m.\u001b[49m\u001b[43mgetInfo\u001b[49m\u001b[43m(\u001b[49m\u001b[43m)\u001b[49m\n",
      "\u001b[36mFile \u001b[39m\u001b[32mc:\\Users\\ebeva\\AppData\\Local\\anaconda3\\envs\\methane\\Lib\\site-packages\\ee\\computedobject.py:107\u001b[39m, in \u001b[36mComputedObject.getInfo\u001b[39m\u001b[34m(self)\u001b[39m\n\u001b[32m    101\u001b[39m \u001b[38;5;28;01mdef\u001b[39;00m\u001b[38;5;250m \u001b[39m\u001b[34mgetInfo\u001b[39m(\u001b[38;5;28mself\u001b[39m) -> Optional[Any]:\n\u001b[32m    102\u001b[39m \u001b[38;5;250m  \u001b[39m\u001b[33;03m\"\"\"Fetch and return information about this object.\u001b[39;00m\n\u001b[32m    103\u001b[39m \n\u001b[32m    104\u001b[39m \u001b[33;03m  Returns:\u001b[39;00m\n\u001b[32m    105\u001b[39m \u001b[33;03m    The object can evaluate to anything.\u001b[39;00m\n\u001b[32m    106\u001b[39m \u001b[33;03m  \"\"\"\u001b[39;00m\n\u001b[32m--> \u001b[39m\u001b[32m107\u001b[39m   \u001b[38;5;28;01mreturn\u001b[39;00m \u001b[43mdata\u001b[49m\u001b[43m.\u001b[49m\u001b[43mcomputeValue\u001b[49m\u001b[43m(\u001b[49m\u001b[38;5;28;43mself\u001b[39;49m\u001b[43m)\u001b[49m\n",
      "\u001b[36mFile \u001b[39m\u001b[32mc:\\Users\\ebeva\\AppData\\Local\\anaconda3\\envs\\methane\\Lib\\site-packages\\ee\\data.py:1128\u001b[39m, in \u001b[36mcomputeValue\u001b[39m\u001b[34m(obj)\u001b[39m\n\u001b[32m   1125\u001b[39m body = {\u001b[33m'\u001b[39m\u001b[33mexpression\u001b[39m\u001b[33m'\u001b[39m: serializer.encode(obj, for_cloud_api=\u001b[38;5;28;01mTrue\u001b[39;00m)}\n\u001b[32m   1126\u001b[39m _maybe_populate_workload_tag(body)\n\u001b[32m-> \u001b[39m\u001b[32m1128\u001b[39m \u001b[38;5;28;01mreturn\u001b[39;00m \u001b[43m_execute_cloud_call\u001b[49m\u001b[43m(\u001b[49m\n\u001b[32m   1129\u001b[39m \u001b[43m    \u001b[49m\u001b[43m_get_cloud_projects\u001b[49m\u001b[43m(\u001b[49m\u001b[43m)\u001b[49m\n\u001b[32m   1130\u001b[39m \u001b[43m    \u001b[49m\u001b[43m.\u001b[49m\u001b[43mvalue\u001b[49m\u001b[43m(\u001b[49m\u001b[43m)\u001b[49m\n\u001b[32m   1131\u001b[39m \u001b[43m    \u001b[49m\u001b[43m.\u001b[49m\u001b[43mcompute\u001b[49m\u001b[43m(\u001b[49m\u001b[43mbody\u001b[49m\u001b[43m=\u001b[49m\u001b[43mbody\u001b[49m\u001b[43m,\u001b[49m\u001b[43m \u001b[49m\u001b[43mproject\u001b[49m\u001b[43m=\u001b[49m\u001b[43m_get_projects_path\u001b[49m\u001b[43m(\u001b[49m\u001b[43m)\u001b[49m\u001b[43m,\u001b[49m\u001b[43m \u001b[49m\u001b[43mprettyPrint\u001b[49m\u001b[43m=\u001b[49m\u001b[38;5;28;43;01mFalse\u001b[39;49;00m\u001b[43m)\u001b[49m\n\u001b[32m   1132\u001b[39m \u001b[43m\u001b[49m\u001b[43m)\u001b[49m[\u001b[33m'\u001b[39m\u001b[33mresult\u001b[39m\u001b[33m'\u001b[39m]\n",
      "\u001b[36mFile \u001b[39m\u001b[32mc:\\Users\\ebeva\\AppData\\Local\\anaconda3\\envs\\methane\\Lib\\site-packages\\ee\\data.py:410\u001b[39m, in \u001b[36m_execute_cloud_call\u001b[39m\u001b[34m(call, num_retries)\u001b[39m\n\u001b[32m    408\u001b[39m   \u001b[38;5;28;01mreturn\u001b[39;00m call.execute(num_retries=num_retries)\n\u001b[32m    409\u001b[39m \u001b[38;5;28;01mexcept\u001b[39;00m googleapiclient.errors.HttpError \u001b[38;5;28;01mas\u001b[39;00m e:\n\u001b[32m--> \u001b[39m\u001b[32m410\u001b[39m   \u001b[38;5;28;01mraise\u001b[39;00m _translate_cloud_exception(e)\n",
      "\u001b[31mEEException\u001b[39m: List.get: List is empty (index is 0)."
     ]
    }
   ],
   "source": [
    "# 7. Print metadata of a few sample glint scenes\n",
    "\n",
    "sample_list = s2_glint_water.toList(3)\n",
    "for i in range(3):\n",
    "    img = ee.Image(sample_list.get(i))\n",
    "    info = img.getInfo()  # Metadata for inspection\n",
    "    print(f\"Scene {i+1} ID: {info['id']}\")\n",
    "    glint_stats = img.select('sunGlintAngle').reduceRegion(\n",
    "        reducer=ee.Reducer.minMax(),\n",
    "        geometry=bbox,\n",
    "        scale=20\n",
    "    )\n",
    "    print('  sunGlintAngle (deg) min,max:', glint_stats.getInfo())\n"
   ]
  },
  {
   "cell_type": "code",
   "execution_count": null,
   "id": "80aa54c5",
   "metadata": {},
   "outputs": [
    {
     "name": "stdout",
     "output_type": "stream",
     "text": [
      "Computed deltaR_MBSP for each glint+water scene.\n"
     ]
    }
   ],
   "source": [
    "# 8. Compute ΔR_MBSP = (c * B12 − B11) / B11 for each glint scene\n",
    "\n",
    "def compute_deltaR(img):\n",
    "    # Mask clouds using QA60 (bit 10): clouds\n",
    "    cloud_mask = img.select('QA60').bitwiseAnd(1 << 10).eq(0)\n",
    "    img_masked = img.updateMask(cloud_mask)\n",
    "\n",
    "    # Perform regression: R11 ≈ c * R12\n",
    "    reg = img_masked.select(['B12', 'B11']).reduceRegion(\n",
    "        reducer=ee.Reducer.linearRegression(numX=1, numY=1),\n",
    "        geometry=bbox,\n",
    "        scale=20,\n",
    "        maxPixels=1e9\n",
    "    )\n",
    "    coef = ee.Array(reg.get('coefficients')).get([0,0])\n",
    "\n",
    "    # Compute ΔR_MBSP\n",
    "    delta = img_masked.expression(\n",
    "        '(c * b12 - b11) / b11', {\n",
    "            'c': coef,\n",
    "            'b12': img_masked.select('B12'),\n",
    "            'b11': img_masked.select('B11')\n",
    "        }\n",
    "    ).rename('deltaR_MBSP')\n",
    "\n",
    "    return img_masked.addBands(delta)\n",
    "\n",
    "s2_with_delta = s2_glint_water.map(compute_deltaR)\n",
    "print('Computed deltaR_MBSP for each glint+water scene.')\n"
   ]
  },
  {
   "cell_type": "code",
   "execution_count": null,
   "id": "b2aaad59",
   "metadata": {},
   "outputs": [],
   "source": []
  }
 ],
 "metadata": {
  "kernelspec": {
   "display_name": "Python 3",
   "language": "python",
   "name": "python3"
  },
  "language_info": {
   "codemirror_mode": {
    "name": "ipython",
    "version": 3
   },
   "file_extension": ".py",
   "mimetype": "text/x-python",
   "name": "python",
   "nbconvert_exporter": "python",
   "pygments_lexer": "ipython3",
   "version": "3.13.3"
  }
 },
 "nbformat": 4,
 "nbformat_minor": 5
}
