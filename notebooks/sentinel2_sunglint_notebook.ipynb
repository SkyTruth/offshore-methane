{
 "cells": [
  {
   "cell_type": "markdown",
   "id": "c1cf696c",
   "metadata": {},
   "source": [
    "# Sentinel-2 Sunglint Finder with Earth Engine Python API\n",
    "\n",
    "This notebook shows how to find Sentinel-2 scenes over sunglint geometry using the Earth Engine Python API.  \n",
    "Adjust the `bbox`, `start_date`, `end_date`, and other parameters as needed.\n"
   ]
  },
  {
   "cell_type": "code",
   "execution_count": null,
   "id": "588b0818",
   "metadata": {},
   "outputs": [],
   "source": [
    "# 1. Install and import Earth Engine Python API\n",
    "# Uncomment the following line if running in Colab or a new environment:\n",
    "# !pip install earthengine-api\n",
    "\n",
    "import ee\n",
    "import math\n",
    "\n",
    "# Initialize the Earth Engine client. \n",
    "# If running for the first time, you may need to authenticate:\n",
    "# ee.Authenticate()\n",
    "ee.Initialize()\n",
    "print('Earth Engine initialized.')\n"
   ]
  },
  {
   "cell_type": "code",
   "execution_count": null,
   "id": "b9c25e48",
   "metadata": {},
   "outputs": [],
   "source": [
    "# 2. Define parameters: bounding box, date range, sunglint threshold, and cloud filter\n",
    "\n",
    "# -------------------------------------------------------------------\n",
    "# Modify these variables as needed:\n",
    "xmin, ymin, xmax, ymax = -80.0, 20.0, -75.0, 25.0  # Example bbox [lon_min, lat_min, lon_max, lat_max]\n",
    "start_date = '2021-06-01'\n",
    "end_date   = '2021-08-31'\n",
    "\n",
    "sun_glint_threshold = 30  # Degrees; scenes with glint angle ≤ this will be selected.\n",
    "max_cloud_cover = 20      # Maximum cloud percentage for initial filter (0-100)\n",
    "# -------------------------------------------------------------------\n",
    "\n",
    "# Create an Earth Engine geometry for the bounding box\n",
    "bbox = ee.Geometry.Rectangle([xmin, ymin, xmax, ymax])\n",
    "aoi = ee.Geometry.Rectangle([-92.7, 27.2, -91.7, 28.2])  # offshore Louisiana\n",
    "\n"
   ]
  },
  {
   "cell_type": "code",
   "execution_count": null,
   "id": "347653c4",
   "metadata": {},
   "outputs": [],
   "source": [
    "# 3. Load Sentinel-2 L1C collection, filter by date, bounds, and cloud cover\n",
    "\n",
    "s2_collection = (ee.ImageCollection('COPERNICUS/S2') \\\n",
    "                .filterDate('2023-01-01', '2023-01-31') \\\n",
    "                .filter(ee.Filter.lte('CLOUDY_PIXEL_PERCENTAGE', max_cloud_cover)))\n",
    "\n",
    "print('Total S2 scenes in date/area filter:', s2_collection.size().getInfo())\n",
    "\n",
    "\n",
    "s2_glint_scenes = ee.ImageCollection('COPERNICUS/S2') \\\n",
    "    .filterDate('2023-01-01', '2023-01-31') \\\n",
    "    .filter(ee.Filter.gt('MEAN_SOLAR_ZENITH_ANGLE', 60)) \\\n",
    "    .filter(ee.Filter.lt('MEAN_INCIDENCE_ZENITH_ANGLE_B8', 10)) \\\n",
    "    .filter(ee.Filter.lte('CLOUDY_PIXEL_PERCENTAGE', max_cloud_cover))\n",
    "\n",
    "print('Total sunglint scenes in date/area filter:',s2_glint_scenes.size().getInfo())"
   ]
  },
  {
   "cell_type": "code",
   "execution_count": null,
   "id": "7828dc61",
   "metadata": {},
   "outputs": [],
   "source": [
    "import geemap\n"
   ]
  },
  {
   "cell_type": "code",
   "execution_count": null,
   "id": "ffac68c0",
   "metadata": {},
   "outputs": [],
   "source": [
    "# 6. (Optional) Mask out non-water pixels using JRC Surface Water dataset\n",
    "# Load JRC Global Surface Water Occurrence band (0-100%)\n",
    "jrc = ee.Image('JRC/GSW1_2/GlobalSurfaceWater').select('occurrence')\n",
    "water_mask = jrc.gt(50)  # Keep pixels that are water >50% of the year\n",
    "\n",
    "def mask_non_water(img):\n",
    "    return img.updateMask(water_mask)\n",
    "\n",
    "s2_glint_water = s2_glint_scenes.map(mask_non_water)\n",
    "print('Applied water mask: resulting scenes:', s2_glint_water.size().getInfo())\n"
   ]
  },
  {
   "cell_type": "code",
   "execution_count": null,
   "id": "637f0389",
   "metadata": {},
   "outputs": [],
   "source": [
    "\n",
    "# Visualize s2_glint_scenes on the interactive map using RGB bands\n",
    "Map.centerObject(aoi, 8)\n",
    "Map.addLayer(s2_glint_water.median(), vis_params, 'S2 Sunglint Scenes')\n",
    "Map.addLayer(aoi, {}, 'AOI')\n",
    "Map"
   ]
  },
  {
   "cell_type": "code",
   "execution_count": null,
   "id": "95ab5cf4",
   "metadata": {},
   "outputs": [],
   "source": [
    "# 1. Get Sentinel-2 collection, filter cloud-free and time period\n",
    "s2 = ee.ImageCollection('COPERNICUS/S2_SR_HARMONIZED') \\\n",
    "    .filterDate('2023-06-01', '2023-06-02') \\\n",
    "    .filter(ee.Filter.lt('CLOUDY_PIXEL_PERCENTAGE', 10)) \\\n",
    "    .filter(ee.Filter.gt('MEAN_SOLAR_ZENITH_ANGLE', 60))  # sun low\n",
    "\n",
    "# 2. Compute a sun glint index (green vs. SWIR) for each image\n",
    "def add_glint_index(img):\n",
    "    green = img.select('B3').divide(10000)  # convert SR to reflectance if needed\n",
    "    swir = img.select('B11').divide(10000)\n",
    "    sgi = green.subtract(swir).divide(green.add(swir)).rename('SGI')\n",
    "    return img.addBands(sgi)\n",
    "s2 = s2.map(add_glint_index)\n",
    "\n",
    "# # 3. Estimate glint pixel fraction and filter\n",
    "# def set_glint_frac(img):\n",
    "#     mask = img.select('B11').gt(0.13)  # SWIR glint mask\n",
    "#     stats = mask.reduceRegion(**{\n",
    "#         'reducer': ee.Reducer.mean(),\n",
    "#         'scale': 100,\n",
    "#         'maxPixels':5e14\n",
    "#     })\n",
    "#     return img.set('glint_frac', stats.get('B11'))\n",
    "\n",
    "# s2_stats = s2.map(set_glint_frac)\n",
    "# high_glint = s2_stats.filter(ee.Filter.gt('glint_frac', 0.2))\n",
    "\n",
    "# 4. Visualize the glint index of the top scene\n",
    "# best = ee.Image(high_glint.first())\n",
    "# Map.addLayer(best.select('SGI'), {'min':-1, 'max':1}, 'GlintIndex')\n",
    "# Map.centerObject(aoi)\n"
   ]
  },
  {
   "cell_type": "code",
   "execution_count": null,
   "id": "ec70319d",
   "metadata": {},
   "outputs": [],
   "source": [
    "print(s2.first().bandNames().getInfo())\n"
   ]
  },
  {
   "cell_type": "code",
   "execution_count": null,
   "id": "99495c6d",
   "metadata": {},
   "outputs": [],
   "source": [
    "s2.size()"
   ]
  },
  {
   "cell_type": "code",
   "execution_count": null,
   "id": "2249a934",
   "metadata": {},
   "outputs": [],
   "source": [
    "Map = geemap.Map()\n",
    "Map.addLayer(s2.median(), vis_params, 'Sentinel-2 RGB')\n",
    "Map\n"
   ]
  },
  {
   "cell_type": "code",
   "execution_count": null,
   "id": "3891ddc5",
   "metadata": {},
   "outputs": [],
   "source": []
  }
 ],
 "metadata": {
  "kernelspec": {
   "display_name": "Python 3",
   "language": "python",
   "name": "python3"
  },
  "language_info": {
   "codemirror_mode": {
    "name": "ipython",
    "version": 3
   },
   "file_extension": ".py",
   "mimetype": "text/x-python",
   "name": "python",
   "nbconvert_exporter": "python",
   "pygments_lexer": "ipython3",
   "version": "3.13.3"
  }
 },
 "nbformat": 4,
 "nbformat_minor": 5
}
