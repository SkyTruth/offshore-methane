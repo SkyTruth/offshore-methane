{
 "cells": [
  {
   "cell_type": "markdown",
   "id": "c1cf696c",
   "metadata": {},
   "source": [
    "# Sentinel-2 Sunglint Finder with Earth Engine Python API\n",
    "\n",
    "This notebook shows how to find Sentinel-2 scenes over sunglint geometry using the Earth Engine Python API.  \n",
    "Adjust the `bbox`, `start_date`, `end_date`, and other parameters as needed.\n"
   ]
  },
  {
   "cell_type": "code",
   "execution_count": 1,
   "id": "588b0818",
   "metadata": {},
   "outputs": [
    {
     "name": "stdout",
     "output_type": "stream",
     "text": [
      "Earth Engine initialized.\n"
     ]
    }
   ],
   "source": [
    "# 1. Install and import Earth Engine Python API\n",
    "# Uncomment the following line if running in Colab or a new environment:\n",
    "# !pip install earthengine-api\n",
    "\n",
    "import ee\n",
    "import math\n",
    "\n",
    "# Initialize the Earth Engine client. \n",
    "# If running for the first time, you may need to authenticate:\n",
    "# ee.Authenticate()\n",
    "ee.Initialize()\n",
    "print('Earth Engine initialized.')\n"
   ]
  },
  {
   "cell_type": "code",
   "execution_count": 2,
   "id": "b9c25e48",
   "metadata": {},
   "outputs": [],
   "source": [
    "# 2. Define parameters: bounding box, date range, sunglint threshold, and cloud filter\n",
    "\n",
    "# -------------------------------------------------------------------\n",
    "# Modify these variables as needed:\n",
    "xmin, ymin, xmax, ymax = -80.0, 20.0, -75.0, 25.0  # Example bbox [lon_min, lat_min, lon_max, lat_max]\n",
    "start_date = '2021-06-01'\n",
    "end_date   = '2021-08-31'\n",
    "\n",
    "sun_glint_threshold = 30  # Degrees; scenes with glint angle ≤ this will be selected.\n",
    "max_cloud_cover = 20      # Maximum cloud percentage for initial filter (0-100)\n",
    "# -------------------------------------------------------------------\n",
    "\n",
    "# Create an Earth Engine geometry for the bounding box\n",
    "bbox = ee.Geometry.Rectangle([xmin, ymin, xmax, ymax])\n"
   ]
  },
  {
   "cell_type": "code",
   "execution_count": 8,
   "id": "347653c4",
   "metadata": {},
   "outputs": [
    {
     "name": "stdout",
     "output_type": "stream",
     "text": [
      "Total S2 scenes in date/area filter: 107288\n",
      "Total sunglint scenes in date/area filter: 22742\n"
     ]
    }
   ],
   "source": [
    "# 3. Load Sentinel-2 L1C collection, filter by date, bounds, and cloud cover\n",
    "\n",
    "s2_collection = (ee.ImageCollection('COPERNICUS/S2') \\\n",
    "                .filterDate('2023-01-01', '2023-01-31') \\\n",
    "                .filter(ee.Filter.lte('CLOUDY_PIXEL_PERCENTAGE', max_cloud_cover)))\n",
    "\n",
    "print('Total S2 scenes in date/area filter:', s2_collection.size().getInfo())\n",
    "\n",
    "\n",
    "s2_glint_scenes = ee.ImageCollection('COPERNICUS/S2') \\\n",
    "    .filterDate('2023-01-01', '2023-01-31') \\\n",
    "    .filter(ee.Filter.gt('MEAN_SOLAR_ZENITH_ANGLE', 60)) \\\n",
    "    .filter(ee.Filter.lt('MEAN_INCIDENCE_ZENITH_ANGLE_B8', 10)) \\\n",
    "    .filter(ee.Filter.lte('CLOUDY_PIXEL_PERCENTAGE', max_cloud_cover))\n",
    "\n",
    "print('Total sunglint scenes in date/area filter:',s2_glint_scenes.size().getInfo())"
   ]
  },
  {
   "cell_type": "code",
   "execution_count": 9,
   "id": "ffac68c0",
   "metadata": {},
   "outputs": [
    {
     "name": "stdout",
     "output_type": "stream",
     "text": [
      "Applied water mask: resulting scenes: 22742\n"
     ]
    }
   ],
   "source": [
    "# 6. (Optional) Mask out non-water pixels using JRC Surface Water dataset\n",
    "# Load JRC Global Surface Water Occurrence band (0-100%)\n",
    "jrc = ee.Image('JRC/GSW1_2/GlobalSurfaceWater').select('occurrence')\n",
    "water_mask = jrc.gt(50)  # Keep pixels that are water >50% of the year\n",
    "\n",
    "def mask_non_water(img):\n",
    "    return img.updateMask(water_mask)\n",
    "\n",
    "s2_glint_water = s2_glint_scenes.map(mask_non_water)\n",
    "print('Applied water mask: resulting scenes:', s2_glint_water.size().getInfo())\n"
   ]
  },
  {
   "cell_type": "code",
   "execution_count": 15,
   "id": "275e93cf",
   "metadata": {},
   "outputs": [
    {
     "data": {
      "text/html": [
       "\n",
       "            <style>\n",
       "                .geemap-dark {\n",
       "                    --jp-widgets-color: white;\n",
       "                    --jp-widgets-label-color: white;\n",
       "                    --jp-ui-font-color1: white;\n",
       "                    --jp-layout-color2: #454545;\n",
       "                    background-color: #383838;\n",
       "                }\n",
       "\n",
       "                .geemap-dark .jupyter-button {\n",
       "                    --jp-layout-color3: #383838;\n",
       "                }\n",
       "\n",
       "                .geemap-colab {\n",
       "                    background-color: var(--colab-primary-surface-color, white);\n",
       "                }\n",
       "\n",
       "                .geemap-colab .jupyter-button {\n",
       "                    --jp-layout-color3: var(--colab-primary-surface-color, white);\n",
       "                }\n",
       "            </style>\n",
       "            "
      ],
      "text/plain": [
       "<IPython.core.display.HTML object>"
      ]
     },
     "metadata": {},
     "output_type": "display_data"
    },
    {
     "data": {
      "application/vnd.jupyter.widget-view+json": {
       "model_id": "65cd209d418540c08b0b2dc22bfd108a",
       "version_major": 2,
       "version_minor": 0
      },
      "text/plain": [
       "Map(center=[22.5, -77.5], controls=(WidgetControl(options=['position', 'transparent_bg'], widget=SearchDataGUI…"
      ]
     },
     "execution_count": 15,
     "metadata": {},
     "output_type": "execute_result"
    }
   ],
   "source": [
    "import geemap\n",
    "\n",
    "# Define visualization parameters if not already defined\n",
    "vis_params = {\n",
    "    'bands': ['B4', 'B3', 'B2'],\n",
    "    'min': 0,\n",
    "    'max': 3000,\n",
    "    'gamma': 1.2\n",
    "}\n",
    "\n",
    "# If Map is not defined, import geemap and create a map\n",
    "Map = geemap.Map(center=[(ymin + ymax) / 2, (xmin + xmax) / 2], zoom=8)\n",
    "\n",
    "# Get the first image from the s2_glint_water collection\n",
    "first_glint_water = s2_glint_water.first()\n",
    "\n",
    "# Add the first scene to the map with visualization parameters\n",
    "Map.addLayer(first_glint_water, vis_params, 'First S2 Sunglint Water Scene')\n",
    "Map"
   ]
  }
 ],
 "metadata": {
  "kernelspec": {
   "display_name": "Python 3",
   "language": "python",
   "name": "python3"
  },
  "language_info": {
   "codemirror_mode": {
    "name": "ipython",
    "version": 3
   },
   "file_extension": ".py",
   "mimetype": "text/x-python",
   "name": "python",
   "nbconvert_exporter": "python",
   "pygments_lexer": "ipython3",
   "version": "3.13.3"
  }
 },
 "nbformat": 4,
 "nbformat_minor": 5
}
