{
 "cells": [
  {
   "cell_type": "markdown",
   "id": "c1cf696c",
   "metadata": {},
   "source": [
    "# Sentinel-2 Sunglint Finder with Earth Engine Python API\n",
    "\n",
    "This notebook shows how to find Sentinel-2 scenes over sunglint geometry using the Earth Engine Python API.  \n",
    "Adjust the `bbox`, `start_date`, `end_date`, and other parameters as needed.\n"
   ]
  },
  {
   "cell_type": "code",
   "execution_count": null,
   "id": "588b0818",
   "metadata": {},
   "outputs": [],
   "source": [
    "# 1. Install and import Earth Engine Python API\n",
    "# Uncomment the following line if running in Colab or a new environment:\n",
    "# !pip install earthengine-api\n",
    "\n",
    "import ee\n",
    "import math\n",
    "\n",
    "# Initialize the Earth Engine client. \n",
    "# If running for the first time, you may need to authenticate:\n",
    "# ee.Authenticate()\n",
    "ee.Initialize()\n",
    "print('Earth Engine initialized.')\n"
   ]
  },
  {
   "cell_type": "code",
   "execution_count": null,
   "id": "5ec11309",
   "metadata": {},
   "outputs": [],
   "source": [
    "# West Africa Tropical Atlantic (off Senegal to Angola)\n",
    "aoi_west_africa = ee.Geometry.Rectangle([-30.0, 0.0, -10.0, 15.0])\n",
    "\n",
    "# Equatorial Atlantic (Gulf of Guinea)\n",
    "aoi_equatorial_atlantic = ee.Geometry.Rectangle([-10.0, -5.0, 10.0, 10.0])\n",
    "\n",
    "# Eastern Pacific (off Central America)\n",
    "aoi_eastern_pacific = ee.Geometry.Rectangle([-110.0, -5.0, -90.0, 10.0])\n",
    "\n",
    "# Western Indian Ocean (near Madagascar and Mozambique Channel)\n",
    "aoi_indian_ocean = ee.Geometry.Rectangle([35.0, -20.0, 60.0, 0.0])\n",
    "\n",
    "# Equatorial Pacific (near Kiribati, remote tropical waters)\n",
    "aoi_central_pacific = ee.Geometry.Rectangle([-180.0, -10.0, -160.0, 10.0])\n",
    "\n",
    "# Bay of Bengal (Eastern Indian Ocean, often glinty)\n",
    "aoi_bay_of_bengal = ee.Geometry.Rectangle([80.0, 5.0, 95.0, 20.0])\n",
    "\n",
    "# South China Sea (tropical glint-prone waters)\n",
    "aoi_south_china_sea = ee.Geometry.Rectangle([110.0, 0.0, 125.0, 15.0])\n",
    "\n",
    "\n",
    "brend_example = -91.469444, 28.430278\n",
    "brend_example_date = \"5-15-2022\""
   ]
  },
  {
   "cell_type": "code",
   "execution_count": null,
   "id": "4818a164",
   "metadata": {},
   "outputs": [],
   "source": [
    "coords = [\n",
    "    [102.98827, 7.59247],\n",
    "    [102.98800, 7.59238],\n",
    "    [102.98827, 7.59283],\n",
    "    [102.98799, 7.59346],\n",
    "    [102.98827, 7.59265]\n",
    "]\n",
    "\n",
    "# Create a MultiPoint geometry\n",
    "stationary_infra = ee.Geometry.MultiPoint(coords)"
   ]
  },
  {
   "cell_type": "code",
   "execution_count": null,
   "id": "3b2c84a4",
   "metadata": {},
   "outputs": [],
   "source": [
    "\n",
    "\n",
    "# Define a wide sunglint-prone AOI (off West Africa, open tropical ocean)\n",
    "# aoi = ee.Geometry.Rectangle([-30.0, 0.0, -10.0, 15.0])\n",
    "\n",
    "# 1. Filter Sentinel-2 SR Harmonized collection\n",
    "s2 = ee.ImageCollection('COPERNICUS/S2') \\\n",
    "    .filterDate('2020-01-01', '2024-12-01') \\\n",
    "    .filterBounds(stationary_infra) \\\n",
    "    .filter(ee.Filter.lt('CLOUDY_PIXEL_PERCENTAGE', 20)) \\\n",
    "    # .filter(ee.Filter.gt('MEAN_SOLAR_ZENITH_ANGLE', 60))  # Stronger glint"
   ]
  },
  {
   "cell_type": "code",
   "execution_count": null,
   "id": "46d5efb2",
   "metadata": {},
   "outputs": [],
   "source": [
    "# def mask_s2_clouds(img):\n",
    "#     # Use MSK_CLASSI_OPAQUE (cloud) and MSK_CLASSI_CIRRUS (cirrus) bands\n",
    "#     opaque = img.select('MSK_CLASSI_OPAQUE')\n",
    "#     cirrus = img.select('MSK_CLASSI_CIRRUS')\n",
    "#     mask = opaque.eq(0).And(cirrus.eq(0))\n",
    "#     return img.updateMask(mask)\n",
    "\n",
    "# s2 = s2.map(mask_s2_clouds)"
   ]
  },
  {
   "cell_type": "code",
   "execution_count": null,
   "id": "b3c20c62",
   "metadata": {},
   "outputs": [],
   "source": [
    "\n",
    "\n",
    "# 2. Add optional Sun Glint Index (green vs SWIR)\n",
    "def add_sgi(img):\n",
    "    green = img.select('B3').divide(10000)\n",
    "    swir = img.select('B11').divide(10000)\n",
    "    sgi = green.subtract(swir).divide(green.add(swir)).rename('SGI')\n",
    "    return img.addBands(sgi)\n",
    "\n",
    "s2 = s2.map(add_sgi)\n",
    "\n",
    "# 3. Estimate sunglint pixel fraction from SWIR reflectance (BOEM method)\n",
    "def add_glint_fraction(img):\n",
    "    swir = img.select('B11').divide(10000)\n",
    "    glint_mask = swir.gt(0.13)  # SWIR glint threshold\n",
    "    glint_fraction = glint_mask.reduceRegion(\n",
    "        reducer=ee.Reducer.mean(),\n",
    "        scale=100,\n",
    "        maxPixels=1e14\n",
    "    ).get('B11')\n",
    "    return img.set('glint_fraction', glint_fraction)\n",
    "\n",
    "s2 = s2.map(add_glint_fraction)\n",
    "\n",
    "\n",
    "def add_sgi_median(img):\n",
    "    green = img.select('B3').divide(10000)\n",
    "    swir = img.select('B11').divide(10000)\n",
    "    \n",
    "    # Avoid divide-by-zero errors\n",
    "    sgi = green.subtract(swir).divide(green.add(swir)).rename('SGI')\n",
    "    \n",
    "    # Mask invalid values\n",
    "    valid_sgi = sgi.updateMask(sgi.gte(-1).And(sgi.lte(1)))\n",
    "\n",
    "    sgi_median = valid_sgi.reduceRegion(\n",
    "        reducer=ee.Reducer.median(),\n",
    "        # geometry=aoi,\n",
    "        scale=20,\n",
    "        maxPixels=1e24\n",
    "    ).get('SGI')\n",
    "\n",
    "    return img.set('SGI_median', sgi_median)\n",
    "\n",
    "# Map the function over your filtered S2 collection\n",
    "s2_with_sgi = s2.map(add_sgi_median)\n",
    "\n",
    "# Now filter by SGI_mean (a real image property)\n",
    "glint_images = s2_with_sgi.filter(ee.Filter.gt('SGI_max', 0.7))  # lower SGI = stronger glint\n",
    "\n",
    "\n",
    "# 4. Filter for strong sunglint images (e.g., >20% of pixels glinted)\n",
    "# glint_images = s2.filter(ee.Filter.gt('SGI', 0.0))\n",
    "\n",
    "# # 5. Get top image and print properties\n",
    "# top_image = glint_images.sort('glint_fraction', False).first()\n",
    "# info = top_image.select(['B4', 'B3', 'B2', 'SGI']).getInfo()\n",
    "\n",
    "# # 6. Export info or use in visualization tool (e.g., geemap, folium, etc.)\n",
    "# print(\"Top sunglint image ID:\", top_image.get('system:index').getInfo())\n",
    "# print(\"Sunglint fraction:\", top_image.get('glint_fraction').getInfo())\n"
   ]
  },
  {
   "cell_type": "code",
   "execution_count": null,
   "id": "850fb3f1",
   "metadata": {},
   "outputs": [],
   "source": [
    "s2.size()"
   ]
  },
  {
   "cell_type": "code",
   "execution_count": null,
   "id": "cbfe9065",
   "metadata": {},
   "outputs": [],
   "source": [
    "high_glint_fract = s2.sort('glint_fraction', False).first()\n",
    "high_sgi = s2.sort('SGI_median', False).first()"
   ]
  },
  {
   "cell_type": "code",
   "execution_count": null,
   "id": "556bf781",
   "metadata": {},
   "outputs": [],
   "source": [
    "# # Mask glint_images to ocean only using a simple landmask (e.g., GSHHS or MODIS water mask)\n",
    "# # Here we use the JRC Global Surface Water mask (water = 1, land = 0)\n",
    "# water_mask = ee.Image('JRC/GSW1_4/GlobalSurfaceWater').select('occurrence').gt(0)\n",
    "\n",
    "# def mask_land(img):\n",
    "#     return img.updateMask(water_mask)\n",
    "\n",
    "# glint_images_ocean = glint_images.map(mask_land)"
   ]
  },
  {
   "cell_type": "code",
   "execution_count": null,
   "id": "b6bd5219",
   "metadata": {},
   "outputs": [],
   "source": [
    "import geemap\n",
    "\n",
    "Map = geemap.Map(center=[7.5, -20], zoom=5)\n",
    "# Map.addLayer(s2.median().select('SGI'), {'min': -1, 'max': 1, 'palette': ['blue', 'white', 'red']}, 'SGI')\n",
    "# Map.addLayer(s2.median().visualize(bands=['B4', 'B3', 'B2'], min=0, max=3000), {}, 'RGB')\n",
    "# Map\n",
    "# Add AOIs as layers to the map for reference\n",
    "# Map.addLayer(aoi_west_africa, {'color': 'yellow'}, 'AOI West Africa')\n",
    "# Map.addLayer(aoi_equatorial_atlantic, {'color': 'orange'}, 'AOI Equatorial Atlantic')\n",
    "# Map.addLayer(aoi_eastern_pacific, {'color': 'cyan'}, 'AOI Eastern Pacific')\n",
    "# Map.addLayer(aoi_indian_ocean, {'color': 'magenta'}, 'AOI Indian Ocean')\n",
    "# Map.addLayer(aoi_central_pacific, {'color': 'lime'}, 'AOI Central Pacific')\n",
    "# Map.addLayer(aoi_bay_of_bengal, {'color': 'red'}, 'AOI Bay of Bengal')\n",
    "# Map.addLayer(aoi_south_china_sea, {'color': 'blue'}, 'AOI South China Sea')\n",
    "\n",
    "\n",
    "Map.addLayer(high_glint_fract.visualize(bands=['B4', 'B3', 'B2'], min=0, max=3000), {}, 'glint')\n",
    "Map.addLayer(high_sgi.visualize(bands=['B4', 'B3', 'B2'], min=0, max=3000), {}, 'high SGI glint')\n",
    "Map.addLayer(high_glint_fract.select('SGI'), {'min': -1, 'max': 1, 'palette': ['blue', 'white', 'red']}, 'glint SGI')\n",
    "\n",
    "\n",
    "Map.addLayer(stationary_infra,{'color': 'red'}, 'Stationary')\n",
    "Map.centerObject(stationary_infra)\n",
    "Map"
   ]
  },
  {
   "cell_type": "code",
   "execution_count": null,
   "id": "f340203d",
   "metadata": {},
   "outputs": [],
   "source": [
    "# glint_images_ocean.size()"
   ]
  },
  {
   "cell_type": "code",
   "execution_count": null,
   "id": "b30c19da",
   "metadata": {},
   "outputs": [],
   "source": []
  }
 ],
 "metadata": {
  "kernelspec": {
   "display_name": "Python 3",
   "language": "python",
   "name": "python3"
  },
  "language_info": {
   "codemirror_mode": {
    "name": "ipython",
    "version": 3
   },
   "file_extension": ".py",
   "mimetype": "text/x-python",
   "name": "python",
   "nbconvert_exporter": "python",
   "pygments_lexer": "ipython3",
   "version": "3.13.3"
  }
 },
 "nbformat": 4,
 "nbformat_minor": 5
}
