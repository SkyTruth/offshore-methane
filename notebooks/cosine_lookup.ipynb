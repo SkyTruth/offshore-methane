{
 "cells": [
  {
   "cell_type": "markdown",
   "id": "a6ad1942",
   "metadata": {},
   "source": [
    "# MBSP Cosine Similarity Explorer"
   ]
  },
  {
   "cell_type": "markdown",
   "id": "57227444",
   "metadata": {},
   "source": [
    "This notebook demonstrates interactive cosine similarity search across Sentinel-2 TOA bands. Select a pixel on the MBSP fractional image to compare all other pixels in the scene."
   ]
  },
  {
   "cell_type": "code",
   "execution_count": null,
   "id": "459b46ba",
   "metadata": {},
   "outputs": [],
   "source": [
    "import datetime as dt\n",
    "import ee\n",
    "import geemap\n",
    "import ipywidgets as widgets\n",
    "\n",
    "ee.Authenticate()\n",
    "ee.Initialize()"
   ]
  },
  {
   "cell_type": "markdown",
   "id": "5af1dd6a",
   "metadata": {},
   "source": [
    "## Helper Functions"
   ]
  },
  {
   "cell_type": "code",
   "execution_count": null,
   "id": "35325419",
   "metadata": {},
   "outputs": [],
   "source": [
    "def mask_s2_clouds(image: ee.Image) -> ee.Image:\n",
    "    \"\"\"Mask clouds using the QA60 band.\"\"\"\n",
    "    qa = image.select('QA60')\n",
    "    cloud_bit_mask = 1 << 10\n",
    "    cirrus_bit_mask = 1 << 11\n",
    "    mask = qa.bitwiseAnd(cloud_bit_mask).eq(0).And(qa.bitwiseAnd(cirrus_bit_mask).eq(0))\n",
    "    masked = image.updateMask(mask).divide(10000)\n",
    "    return masked.copyProperties(image, image.propertyNames())"
   ]
  },
  {
   "cell_type": "code",
   "execution_count": null,
   "id": "29b92c27",
   "metadata": {},
   "outputs": [],
   "source": [
    "def mbsp_fractional_image(image: ee.Image, region: ee.Geometry) -> ee.Image:\n",
    "    num_img = image.select('B11').multiply(image.select('B12'))\n",
    "    den_img = image.select('B12').multiply(image.select('B12'))\n",
    "    num_sum = num_img.reduceRegion(reducer=ee.Reducer.sum(), geometry=region, scale=20, bestEffort=True)\n",
    "    den_sum = den_img.reduceRegion(reducer=ee.Reducer.sum(), geometry=region, scale=20, bestEffort=True)\n",
    "    slope = ee.Number(num_sum.get('B11')).divide(ee.Number(den_sum.get('B12')))\n",
    "    mbsp = (image.select('B12').multiply(slope).subtract(image.select('B11')).divide(image.select('B11')).rename('R'))\n",
    "    return mbsp.set({'slope': slope})"
   ]
  },
  {
   "cell_type": "code",
   "execution_count": null,
   "id": "c6e55dec",
   "metadata": {},
   "outputs": [],
   "source": [
    "BANDS = ['B1','B2','B3','B4','B5','B6','B7','B8','B8A','B9','B10','B11','B12']\n",
    "\n",
    "def cosine_similarity_image(image: ee.Image, sample: ee.Feature) -> ee.Image:\n",
    "    ref_vals = ee.Image.constant([sample.get(b) for b in BANDS]).rename(BANDS)\n",
    "    dot = image.select(BANDS).multiply(ref_vals).reduce(ee.Reducer.sum())\n",
    "    mag1 = image.select(BANDS).pow(2).reduce(ee.Reducer.sum()).sqrt()\n",
    "    mag2 = ref_vals.pow(2).reduce(ee.Reducer.sum()).sqrt()\n",
    "    return dot.divide(mag1.multiply(mag2)).rename('similarity')"
   ]
  },
  {
   "cell_type": "markdown",
   "id": "fbbaf283",
   "metadata": {},
   "source": [
    "## Image Selection"
   ]
  },
  {
   "cell_type": "code",
   "execution_count": null,
   "id": "7122dff8",
   "metadata": {},
   "outputs": [],
   "source": [
    "lat, lon = 31.6585, 5.9053\n",
    "start = dt.date(2019, 10, 1)\n",
    "end = dt.date(2019, 10, 15)\n",
    "point = ee.Geometry.Point(lon, lat)\n",
    "collection = (ee.ImageCollection('COPERNICUS/S2_HARMONIZED')\n",
    "    .filterDate(str(start), str(end))\n",
    "    .filterBounds(point)\n",
    "    .filter(ee.Filter.lt('CLOUDY_PIXEL_PERCENTAGE', 20))\n",
    "    .sort('system:time_start')\n",
    "    .map(mask_s2_clouds))\n",
    "images = collection.toList(collection.size())\n",
    "count = images.size().getInfo()\n",
    "print(f'Found {count} images')"
   ]
  },
  {
   "cell_type": "markdown",
   "id": "9df50d95",
   "metadata": {},
   "source": [
    "## Interactive Map"
   ]
  },
  {
   "cell_type": "code",
   "execution_count": null,
   "id": "411fca1a",
   "metadata": {},
   "outputs": [],
   "source": [
    "if count:\n",
    "    region = point.buffer(1000).bounds()\n",
    "    img = ee.Image(images.get(0))\n",
    "    date = ee.Date(img.get('system:time_start')).format('YYYY-MM-dd').getInfo()\n",
    "    frac = mbsp_fractional_image(img, region)\n",
    "    m = geemap.Map(center=(lat, lon), zoom=12)\n",
    "    m.addLayer(img.select(['B4','B3','B2']), {'min':0, 'max':0.3}, 'RGB', False)\n",
    "    m.addLayer(frac, {'min':-0.05,'max':0.05,'palette':['blue','white','red']}, 'Fractional', True)\n",
    "    frac_layer = m.layers[-1]\n",
    "    m.sim_layer = None\n",
    "\n",
    "    def handle_click(**kwargs):\n",
    "        if kwargs.get('type') == 'click':\n",
    "            latc, lonc = kwargs.get('coordinates')\n",
    "            pt = ee.Geometry.Point(lonc, latc)\n",
    "            sample = img.select(BANDS).sample(pt, scale=20).first()\n",
    "            if sample:\n",
    "                sim = cosine_similarity_image(img, sample)\n",
    "                m.addLayer(sim, {'min':0,'max':1,'palette':['white','green']}, 'Similarity', False)\n",
    "                m.sim_layer = m.layers[-1]\n",
    "\n",
    "    m.on_interaction(handle_click)\n",
    "    display(m)\n",
    "    toggle = widgets.ToggleButtons(options=['Fractional','Similarity'], description='View:')\n",
    "\n",
    "    def switch(change):\n",
    "        if m.sim_layer is None:\n",
    "            return\n",
    "        frac_layer.visible = change['new'] == 'Fractional'\n",
    "        m.sim_layer.visible = change['new'] == 'Similarity'\n",
    "\n",
    "    toggle.observe(switch, 'value')\n",
    "    display(toggle)"
   ]
  }
 ],
 "metadata": {},
 "nbformat": 4,
 "nbformat_minor": 5
}
