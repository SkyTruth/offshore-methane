{
 "cells": [
  {
   "cell_type": "code",
   "execution_count": 1,
   "metadata": {},
   "outputs": [
    {
     "name": "stderr",
     "output_type": "stream",
     "text": [
      "/Users/brendanjarrell/miniconda3/envs/methane/lib/python3.13/site-packages/geemap/conversion.py:23: UserWarning: pkg_resources is deprecated as an API. See https://setuptools.pypa.io/en/latest/pkg_resources.html. The pkg_resources package is slated for removal as early as 2025-11-30. Refrain from using this package or pin to Setuptools<81.\n",
      "  import pkg_resources\n"
     ]
    }
   ],
   "source": [
    "# Imports\n",
    "import ee\n",
    "import csv\n",
    "import sys\n",
    "import geemap\n",
    "import rasterio \n",
    "import google.auth\n",
    "import numpy as np\n",
    "import pandas as pd\n",
    "from lxml import etree\n",
    "from io import StringIO\n",
    "# from google.colab import auth\n",
    "from google.cloud import storage\n",
    "from IPython.display import clear_output\n",
    "from google.auth.exceptions import RefreshError\n",
    "from google.auth.transport.requests import Request\n",
    "from offshore_methane import utils\n",
    "\n",
    "# auth.authenticate_user()\n",
    "\n",
    "credentials, std_proj = google.auth.default(scopes=['https://www.googleapis.com/auth/cloud-platform'])\n",
    "\n",
    "ee.Authenticate()\n",
    "ee.Initialize(project = 'skytruth-tech')"
   ]
  },
  {
   "cell_type": "code",
   "execution_count": 6,
   "metadata": {},
   "outputs": [
    {
     "data": {
      "text/html": [
       "\n",
       "            <style>\n",
       "                .geemap-dark {\n",
       "                    --jp-widgets-color: white;\n",
       "                    --jp-widgets-label-color: white;\n",
       "                    --jp-ui-font-color1: white;\n",
       "                    --jp-layout-color2: #454545;\n",
       "                    background-color: #383838;\n",
       "                }\n",
       "\n",
       "                .geemap-dark .jupyter-button {\n",
       "                    --jp-layout-color3: #383838;\n",
       "                }\n",
       "\n",
       "                .geemap-colab {\n",
       "                    background-color: var(--colab-primary-surface-color, white);\n",
       "                }\n",
       "\n",
       "                .geemap-colab .jupyter-button {\n",
       "                    --jp-layout-color3: var(--colab-primary-surface-color, white);\n",
       "                }\n",
       "            </style>\n",
       "            "
      ],
      "text/plain": [
       "<IPython.core.display.HTML object>"
      ]
     },
     "metadata": {},
     "output_type": "display_data"
    }
   ],
   "source": [
    "test_aoi = (ee.Geometry.Polygon(\n",
    "        [[[-92.80360717773439, 19.18247337142066],\n",
    "          [-92.80360717773439, 19.07737953762038],\n",
    "          [-92.69511718750002, 19.07737953762038],\n",
    "          [-92.69511718750002, 19.18247337142066]]]))\n",
    "\n",
    "# Bring in a test image.\n",
    "s2 = (ee.ImageCollection('COPERNICUS/S2_HARMONIZED')\n",
    "     .filterBounds(test_aoi)\n",
    "     .filterDate('2023-05-01','2023-10-01')\n",
    "     .filter(ee.Filter.lt('CLOUDY_PIXEL_PERCENTAGE', 5))\n",
    "     .filter(ee.Filter.lt('MEAN_SOLAR_ZENITH_ANGLE', 20)).first())\n",
    "\n",
    "s2Test = ee.ImageCollection('COPERNICUS/S2_SR_HARMONIZED').filter(ee.Filter.eq('system:index',s2.get('system:index'))).first()"
   ]
  },
  {
   "cell_type": "code",
   "execution_count": 7,
   "metadata": {},
   "outputs": [
    {
     "data": {
      "text/html": [
       "\n",
       "            <style>\n",
       "                .geemap-dark {\n",
       "                    --jp-widgets-color: white;\n",
       "                    --jp-widgets-label-color: white;\n",
       "                    --jp-ui-font-color1: white;\n",
       "                    --jp-layout-color2: #454545;\n",
       "                    background-color: #383838;\n",
       "                }\n",
       "\n",
       "                .geemap-dark .jupyter-button {\n",
       "                    --jp-layout-color3: #383838;\n",
       "                }\n",
       "\n",
       "                .geemap-colab {\n",
       "                    background-color: var(--colab-primary-surface-color, white);\n",
       "                }\n",
       "\n",
       "                .geemap-colab .jupyter-button {\n",
       "                    --jp-layout-color3: var(--colab-primary-surface-color, white);\n",
       "                }\n",
       "            </style>\n",
       "            "
      ],
      "text/plain": [
       "<IPython.core.display.HTML object>"
      ]
     },
     "metadata": {},
     "output_type": "display_data"
    }
   ],
   "source": [
    "s2 = utils.calculateSunglint_alpha(s2)\n"
   ]
  },
  {
   "cell_type": "code",
   "execution_count": null,
   "metadata": {},
   "outputs": [],
   "source": [
    "test_map = geemap.Map()\n",
    "\n",
    "test_map.addLayer(s2Test,{'bands':['B4','B3','B2'],'min':0,'max':2000})\n",
    "print('Sunglint alpha value: ', s2.get('glint_alpha').getInfo())\n",
    "test_map"
   ]
  },
  {
   "cell_type": "code",
   "execution_count": 9,
   "metadata": {},
   "outputs": [
    {
     "data": {
      "text/html": [
       "\n",
       "            <style>\n",
       "                .geemap-dark {\n",
       "                    --jp-widgets-color: white;\n",
       "                    --jp-widgets-label-color: white;\n",
       "                    --jp-ui-font-color1: white;\n",
       "                    --jp-layout-color2: #454545;\n",
       "                    background-color: #383838;\n",
       "                }\n",
       "\n",
       "                .geemap-dark .jupyter-button {\n",
       "                    --jp-layout-color3: #383838;\n",
       "                }\n",
       "\n",
       "                .geemap-colab {\n",
       "                    background-color: var(--colab-primary-surface-color, white);\n",
       "                }\n",
       "\n",
       "                .geemap-colab .jupyter-button {\n",
       "                    --jp-layout-color3: var(--colab-primary-surface-color, white);\n",
       "                }\n",
       "            </style>\n",
       "            "
      ],
      "text/plain": [
       "<IPython.core.display.HTML object>"
      ]
     },
     "metadata": {},
     "output_type": "display_data"
    },
    {
     "data": {
      "text/plain": [
       "[5000, 0, 499980, 0, -5000, 2200020]"
      ]
     },
     "execution_count": 9,
     "metadata": {},
     "output_type": "execute_result"
    }
   ],
   "source": [
    "system_index = s2Test.get('system:index').getInfo()\n",
    "projection_info = s2Test.select('B12').projection().getInfo()\n",
    "\n",
    "transform = projection_info['transform']\n",
    "crs = projection_info['crs']\n",
    "transform[0] = 5000\n",
    "transform[4] = -5000\n",
    "transform"
   ]
  },
  {
   "cell_type": "code",
   "execution_count": 10,
   "metadata": {},
   "outputs": [
    {
     "data": {
      "text/html": [
       "\n",
       "            <style>\n",
       "                .geemap-dark {\n",
       "                    --jp-widgets-color: white;\n",
       "                    --jp-widgets-label-color: white;\n",
       "                    --jp-ui-font-color1: white;\n",
       "                    --jp-layout-color2: #454545;\n",
       "                    background-color: #383838;\n",
       "                }\n",
       "\n",
       "                .geemap-dark .jupyter-button {\n",
       "                    --jp-layout-color3: #383838;\n",
       "                }\n",
       "\n",
       "                .geemap-colab {\n",
       "                    background-color: var(--colab-primary-surface-color, white);\n",
       "                }\n",
       "\n",
       "                .geemap-colab .jupyter-button {\n",
       "                    --jp-layout-color3: var(--colab-primary-surface-color, white);\n",
       "                }\n",
       "            </style>\n",
       "            "
      ],
      "text/plain": [
       "<IPython.core.display.HTML object>"
      ]
     },
     "metadata": {},
     "output_type": "display_data"
    },
    {
     "data": {
      "text/plain": [
       "'L2/tiles/15/Q/WB/S2B_MSIL2A_20230505T163839_N0509_R126_T15QWB_20230505T203828.SAFE/GRANULE/L2A_T15QWB_A032184_20230505T165653/MTD_TL.xml'"
      ]
     },
     "execution_count": 10,
     "metadata": {},
     "output_type": "execute_result"
    }
   ],
   "source": [
    "tile_ids = system_index.split('_')[2]\n",
    "\n",
    "# These will be used to get our product of interest.\n",
    "tile_num = tile_ids[1:3]\n",
    "lat_band = tile_ids[3]\n",
    "grid_square = tile_ids[4:]\n",
    "product_uri = s2Test.get('PRODUCT_ID').getInfo()+'.SAFE'\n",
    "granule_id = s2Test.get('GRANULE_ID').getInfo()\n",
    "\n",
    "# Name of xml product to query, which holds metadata for solar angles.\n",
    "# ex: gs://gcp-public-data-sentinel-2/L2/tiles/01/C/CV/S2B_MSIL2A_20181213T210519_N0211_R071_T01CCV_20181213T221546.SAFE/GRANULE/L2A_T01CCV_A009249_20181213T210519/MTD_TL.xml\n",
    "file_id = f\"L2/tiles/{tile_num}/{lat_band}/{grid_square}/{product_uri}/GRANULE/{granule_id}/MTD_TL.xml\"\n",
    "\n",
    "file_id"
   ]
  },
  {
   "cell_type": "markdown",
   "metadata": {},
   "source": [
    "# Working on section immediately below this."
   ]
  },
  {
   "cell_type": "code",
   "execution_count": 11,
   "metadata": {},
   "outputs": [
    {
     "data": {
      "text/html": [
       "\n",
       "            <style>\n",
       "                .geemap-dark {\n",
       "                    --jp-widgets-color: white;\n",
       "                    --jp-widgets-label-color: white;\n",
       "                    --jp-ui-font-color1: white;\n",
       "                    --jp-layout-color2: #454545;\n",
       "                    background-color: #383838;\n",
       "                }\n",
       "\n",
       "                .geemap-dark .jupyter-button {\n",
       "                    --jp-layout-color3: #383838;\n",
       "                }\n",
       "\n",
       "                .geemap-colab {\n",
       "                    background-color: var(--colab-primary-surface-color, white);\n",
       "                }\n",
       "\n",
       "                .geemap-colab .jupyter-button {\n",
       "                    --jp-layout-color3: var(--colab-primary-surface-color, white);\n",
       "                }\n",
       "            </style>\n",
       "            "
      ],
      "text/plain": [
       "<IPython.core.display.HTML object>"
      ]
     },
     "metadata": {},
     "output_type": "display_data"
    }
   ],
   "source": [
    "client = storage.Client()\n",
    "bucket_name = \"gcp-public-data-sentinel-2\"\n",
    "bucket = client.get_bucket(bucket_name)\n",
    "\n",
    "blob = bucket.blob(file_id)\n",
    "\n",
    "glint_bytes = blob.download_as_bytes()"
   ]
  },
  {
   "cell_type": "code",
   "execution_count": 12,
   "metadata": {},
   "outputs": [
    {
     "data": {
      "text/html": [
       "\n",
       "            <style>\n",
       "                .geemap-dark {\n",
       "                    --jp-widgets-color: white;\n",
       "                    --jp-widgets-label-color: white;\n",
       "                    --jp-ui-font-color1: white;\n",
       "                    --jp-layout-color2: #454545;\n",
       "                    background-color: #383838;\n",
       "                }\n",
       "\n",
       "                .geemap-dark .jupyter-button {\n",
       "                    --jp-layout-color3: #383838;\n",
       "                }\n",
       "\n",
       "                .geemap-colab {\n",
       "                    background-color: var(--colab-primary-surface-color, white);\n",
       "                }\n",
       "\n",
       "                .geemap-colab .jupyter-button {\n",
       "                    --jp-layout-color3: var(--colab-primary-surface-color, white);\n",
       "                }\n",
       "            </style>\n",
       "            "
      ],
      "text/plain": [
       "<IPython.core.display.HTML object>"
      ]
     },
     "metadata": {},
     "output_type": "display_data"
    },
    {
     "data": {
      "text/plain": [
       "<Element {https://psd-14.sentinel2.eo.esa.int/PSD/S2_PDI_Level-2A_Tile_Metadata.xsd}Level-2A_Tile_ID at 0x14af0dc80>"
      ]
     },
     "execution_count": 12,
     "metadata": {},
     "output_type": "execute_result"
    }
   ],
   "source": [
    "# create a XML parser to parse the metadata and retrieve its root\n",
    "parser = etree.XMLParser(no_network=True, remove_blank_text=True)\n",
    "root = etree.fromstring(glint_bytes, parser=parser)\n",
    "\n",
    "root"
   ]
  },
  {
   "cell_type": "code",
   "execution_count": 13,
   "metadata": {},
   "outputs": [
    {
     "data": {
      "text/html": [
       "\n",
       "            <style>\n",
       "                .geemap-dark {\n",
       "                    --jp-widgets-color: white;\n",
       "                    --jp-widgets-label-color: white;\n",
       "                    --jp-ui-font-color1: white;\n",
       "                    --jp-layout-color2: #454545;\n",
       "                    background-color: #383838;\n",
       "                }\n",
       "\n",
       "                .geemap-dark .jupyter-button {\n",
       "                    --jp-layout-color3: #383838;\n",
       "                }\n",
       "\n",
       "                .geemap-colab {\n",
       "                    background-color: var(--colab-primary-surface-color, white);\n",
       "                }\n",
       "\n",
       "                .geemap-colab .jupyter-button {\n",
       "                    --jp-layout-color3: var(--colab-primary-surface-color, white);\n",
       "                }\n",
       "            </style>\n",
       "            "
      ],
      "text/plain": [
       "<IPython.core.display.HTML object>"
      ]
     },
     "metadata": {},
     "output_type": "display_data"
    }
   ],
   "source": [
    "def get_grid_values_from_xml(tree_node, xpath_str):\n",
    "    '''Receives a XML tree node and a XPath parsing string and search for children matching the string.\n",
    "       Then, extract the VALUES in <values> v1 v2 v3 </values> <values> v4 v5 v6 </values> format as numpy array\n",
    "       Loop through the arrays to compute the mean.\n",
    "    '''\n",
    "    node_list = tree_node.xpath(xpath_str)\n",
    "\n",
    "    arrays_lst = []\n",
    "    for node in node_list:\n",
    "        values_lst = node.xpath('.//VALUES/text()')\n",
    "        values_arr = np.array(list(map(lambda x: x.split(' '), values_lst))).astype('float')\n",
    "        arrays_lst.append(values_arr)\n",
    "\n",
    "    return np.nanmean(arrays_lst, axis=0)"
   ]
  },
  {
   "cell_type": "code",
   "execution_count": 14,
   "metadata": {},
   "outputs": [
    {
     "data": {
      "text/html": [
       "\n",
       "            <style>\n",
       "                .geemap-dark {\n",
       "                    --jp-widgets-color: white;\n",
       "                    --jp-widgets-label-color: white;\n",
       "                    --jp-ui-font-color1: white;\n",
       "                    --jp-layout-color2: #454545;\n",
       "                    background-color: #383838;\n",
       "                }\n",
       "\n",
       "                .geemap-dark .jupyter-button {\n",
       "                    --jp-layout-color3: #383838;\n",
       "                }\n",
       "\n",
       "                .geemap-colab {\n",
       "                    background-color: var(--colab-primary-surface-color, white);\n",
       "                }\n",
       "\n",
       "                .geemap-colab .jupyter-button {\n",
       "                    --jp-layout-color3: var(--colab-primary-surface-color, white);\n",
       "                }\n",
       "            </style>\n",
       "            "
      ],
      "text/plain": [
       "<IPython.core.display.HTML object>"
      ]
     },
     "metadata": {},
     "output_type": "display_data"
    }
   ],
   "source": [
    "sun_zenith = get_grid_values_from_xml(root, './/Sun_Angles_Grid/Zenith')\n",
    "sun_azimuth = get_grid_values_from_xml(root, './/Sun_Angles_Grid/Azimuth')\n",
    "\n",
    "view_zenith = get_grid_values_from_xml(root, './/Viewing_Incidence_Angles_Grids/Zenith')\n",
    "view_azimuth = get_grid_values_from_xml(root, './/Viewing_Incidence_Angles_Grids/Azimuth')"
   ]
  },
  {
   "cell_type": "code",
   "execution_count": 15,
   "metadata": {},
   "outputs": [
    {
     "data": {
      "text/html": [
       "\n",
       "            <style>\n",
       "                .geemap-dark {\n",
       "                    --jp-widgets-color: white;\n",
       "                    --jp-widgets-label-color: white;\n",
       "                    --jp-ui-font-color1: white;\n",
       "                    --jp-layout-color2: #454545;\n",
       "                    background-color: #383838;\n",
       "                }\n",
       "\n",
       "                .geemap-dark .jupyter-button {\n",
       "                    --jp-layout-color3: #383838;\n",
       "                }\n",
       "\n",
       "                .geemap-colab {\n",
       "                    background-color: var(--colab-primary-surface-color, white);\n",
       "                }\n",
       "\n",
       "                .geemap-colab .jupyter-button {\n",
       "                    --jp-layout-color3: var(--colab-primary-surface-color, white);\n",
       "                }\n",
       "            </style>\n",
       "            "
      ],
      "text/plain": [
       "<IPython.core.display.HTML object>"
      ]
     },
     "metadata": {},
     "output_type": "display_data"
    },
    {
     "data": {
      "text/plain": [
       "(          0         1         2         3         4\n",
       " 0  7.752360  8.149683  8.531838  8.914004  9.296081\n",
       " 1  7.849552  8.238639  8.620812  9.002965  9.385002\n",
       " 2  7.939098  8.327619  8.709797  9.091936  9.473933\n",
       " 3  8.034498  8.416622  8.798796  9.180910  9.562862\n",
       " 4  8.123488  8.505636  8.887806  9.269888  9.651788,\n",
       "             0           1           2           3           4\n",
       " 0  292.310154  273.790308  274.319308  274.804000  275.249385\n",
       " 1  282.789192  273.917231  274.435308  274.910077  275.347231\n",
       " 2  282.817154  274.041154  274.548538  275.014231  275.443385\n",
       " 3  273.619077  274.162385  274.659538  275.116308  275.537077\n",
       " 4  273.748923  274.280846  274.768231  275.216077  275.629462)"
      ]
     },
     "execution_count": 15,
     "metadata": {},
     "output_type": "execute_result"
    }
   ],
   "source": [
    "pd.DataFrame(view_zenith).iloc[:5, :5], pd.DataFrame(view_azimuth).iloc[:5, :5]\n"
   ]
  },
  {
   "cell_type": "code",
   "execution_count": 16,
   "metadata": {},
   "outputs": [
    {
     "data": {
      "text/html": [
       "\n",
       "            <style>\n",
       "                .geemap-dark {\n",
       "                    --jp-widgets-color: white;\n",
       "                    --jp-widgets-label-color: white;\n",
       "                    --jp-ui-font-color1: white;\n",
       "                    --jp-layout-color2: #454545;\n",
       "                    background-color: #383838;\n",
       "                }\n",
       "\n",
       "                .geemap-dark .jupyter-button {\n",
       "                    --jp-layout-color3: #383838;\n",
       "                }\n",
       "\n",
       "                .geemap-colab {\n",
       "                    background-color: var(--colab-primary-surface-color, white);\n",
       "                }\n",
       "\n",
       "                .geemap-colab .jupyter-button {\n",
       "                    --jp-layout-color3: var(--colab-primary-surface-color, white);\n",
       "                }\n",
       "            </style>\n",
       "            "
      ],
      "text/plain": [
       "<IPython.core.display.HTML object>"
      ]
     },
     "metadata": {},
     "output_type": "display_data"
    }
   ],
   "source": [
    "# convert angles arrays to radians\n",
    "sun_zenith_rad = np.deg2rad(sun_zenith)\n",
    "sun_azimuth_rad = np.deg2rad(sun_azimuth)\n",
    "\n",
    "view_zenith_rad = np.deg2rad(view_zenith)\n",
    "view_azimuth_rad = np.deg2rad(view_azimuth)"
   ]
  },
  {
   "cell_type": "code",
   "execution_count": 17,
   "metadata": {},
   "outputs": [
    {
     "data": {
      "text/html": [
       "\n",
       "            <style>\n",
       "                .geemap-dark {\n",
       "                    --jp-widgets-color: white;\n",
       "                    --jp-widgets-label-color: white;\n",
       "                    --jp-ui-font-color1: white;\n",
       "                    --jp-layout-color2: #454545;\n",
       "                    background-color: #383838;\n",
       "                }\n",
       "\n",
       "                .geemap-dark .jupyter-button {\n",
       "                    --jp-layout-color3: #383838;\n",
       "                }\n",
       "\n",
       "                .geemap-colab {\n",
       "                    background-color: var(--colab-primary-surface-color, white);\n",
       "                }\n",
       "\n",
       "                .geemap-colab .jupyter-button {\n",
       "                    --jp-layout-color3: var(--colab-primary-surface-color, white);\n",
       "                }\n",
       "            </style>\n",
       "            "
      ],
      "text/plain": [
       "<IPython.core.display.HTML object>"
      ]
     },
     "metadata": {},
     "output_type": "display_data"
    }
   ],
   "source": [
    "# calculate glint angle\n",
    "phi = sun_azimuth_rad - view_azimuth_rad\n",
    "Tetag = np.cos(view_zenith_rad) * np.cos(sun_zenith_rad) - np.sin(view_zenith_rad) * np.sin(sun_zenith_rad) * np.cos(phi)"
   ]
  },
  {
   "cell_type": "code",
   "execution_count": 18,
   "metadata": {},
   "outputs": [
    {
     "data": {
      "text/html": [
       "\n",
       "            <style>\n",
       "                .geemap-dark {\n",
       "                    --jp-widgets-color: white;\n",
       "                    --jp-widgets-label-color: white;\n",
       "                    --jp-ui-font-color1: white;\n",
       "                    --jp-layout-color2: #454545;\n",
       "                    background-color: #383838;\n",
       "                }\n",
       "\n",
       "                .geemap-dark .jupyter-button {\n",
       "                    --jp-layout-color3: #383838;\n",
       "                }\n",
       "\n",
       "                .geemap-colab {\n",
       "                    background-color: var(--colab-primary-surface-color, white);\n",
       "                }\n",
       "\n",
       "                .geemap-colab .jupyter-button {\n",
       "                    --jp-layout-color3: var(--colab-primary-surface-color, white);\n",
       "                }\n",
       "            </style>\n",
       "            "
      ],
      "text/plain": [
       "<IPython.core.display.HTML object>"
      ]
     },
     "metadata": {},
     "output_type": "display_data"
    }
   ],
   "source": [
    "# convert results to degrees\n",
    "glint_array = np.degrees(np.arccos(Tetag))\n",
    "glint_array[np.isnan(glint_array)] = -1"
   ]
  },
  {
   "cell_type": "code",
   "execution_count": 7,
   "metadata": {},
   "outputs": [
    {
     "data": {
      "text/html": [
       "\n",
       "            <style>\n",
       "                .geemap-dark {\n",
       "                    --jp-widgets-color: white;\n",
       "                    --jp-widgets-label-color: white;\n",
       "                    --jp-ui-font-color1: white;\n",
       "                    --jp-layout-color2: #454545;\n",
       "                    background-color: #383838;\n",
       "                }\n",
       "\n",
       "                .geemap-dark .jupyter-button {\n",
       "                    --jp-layout-color3: #383838;\n",
       "                }\n",
       "\n",
       "                .geemap-colab {\n",
       "                    background-color: var(--colab-primary-surface-color, white);\n",
       "                }\n",
       "\n",
       "                .geemap-colab .jupyter-button {\n",
       "                    --jp-layout-color3: var(--colab-primary-surface-color, white);\n",
       "                }\n",
       "            </style>\n",
       "            "
      ],
      "text/plain": [
       "<IPython.core.display.HTML object>"
      ]
     },
     "metadata": {},
     "output_type": "display_data"
    },
    {
     "ename": "NameError",
     "evalue": "name 'glint_array' is not defined",
     "output_type": "error",
     "traceback": [
      "\u001b[31m---------------------------------------------------------------------------\u001b[39m",
      "\u001b[31mNameError\u001b[39m                                 Traceback (most recent call last)",
      "\u001b[36mCell\u001b[39m\u001b[36m \u001b[39m\u001b[32mIn[7]\u001b[39m\u001b[32m, line 18\u001b[39m\n\u001b[32m     12\u001b[39m             text = ax.text(j, i, \u001b[38;5;28mround\u001b[39m(hm[i, j],\u001b[32m2\u001b[39m),\n\u001b[32m     13\u001b[39m                            ha=\u001b[33m\"\u001b[39m\u001b[33mcenter\u001b[39m\u001b[33m\"\u001b[39m, va=\u001b[33m\"\u001b[39m\u001b[33mcenter\u001b[39m\u001b[33m\"\u001b[39m, color=\u001b[33m\"\u001b[39m\u001b[33mcornflowerblue\u001b[39m\u001b[33m\"\u001b[39m)\n\u001b[32m     15\u001b[39m     \u001b[38;5;28;01mreturn\u001b[39;00m fig, ax\n\u001b[32m---> \u001b[39m\u001b[32m18\u001b[39m fig, ax = create_annotated_heatmap(\u001b[43mglint_array\u001b[49m)\n",
      "\u001b[31mNameError\u001b[39m: name 'glint_array' is not defined"
     ]
    }
   ],
   "source": [
    "import matplotlib.pyplot as plt\n",
    "\n",
    "def create_annotated_heatmap(hm, cmap='magma_r', vmin=None, vmax=None):\n",
    "    '''Create an annotated heatmap. Parameter img is an optional background img to be blended'''\n",
    "    fig, ax = plt.subplots(figsize=(15, 15))\n",
    "\n",
    "    ax.imshow(hm, vmin=vmin, vmax=vmax, cmap=cmap)\n",
    "\n",
    "    # Loop over data dimensions and create text annotations.\n",
    "    for i in range(0, hm.shape[0]):\n",
    "        for j in range(0, hm.shape[1]):\n",
    "            text = ax.text(j, i, round(hm[i, j],2),\n",
    "                           ha=\"center\", va=\"center\", color=\"cornflowerblue\")\n",
    "\n",
    "    return fig, ax\n",
    "\n",
    "\n",
    "fig, ax = create_annotated_heatmap(glint_array)\n"
   ]
  },
  {
   "cell_type": "code",
   "execution_count": 21,
   "metadata": {},
   "outputs": [
    {
     "data": {
      "text/html": [
       "\n",
       "            <style>\n",
       "                .geemap-dark {\n",
       "                    --jp-widgets-color: white;\n",
       "                    --jp-widgets-label-color: white;\n",
       "                    --jp-ui-font-color1: white;\n",
       "                    --jp-layout-color2: #454545;\n",
       "                    background-color: #383838;\n",
       "                }\n",
       "\n",
       "                .geemap-dark .jupyter-button {\n",
       "                    --jp-layout-color3: #383838;\n",
       "                }\n",
       "\n",
       "                .geemap-colab {\n",
       "                    background-color: var(--colab-primary-surface-color, white);\n",
       "                }\n",
       "\n",
       "                .geemap-colab .jupyter-button {\n",
       "                    --jp-layout-color3: var(--colab-primary-surface-color, white);\n",
       "                }\n",
       "            </style>\n",
       "            "
      ],
      "text/plain": [
       "<IPython.core.display.HTML object>"
      ]
     },
     "metadata": {},
     "output_type": "display_data"
    }
   ],
   "source": [
    "with rasterio.open(\n",
    "    f'glint_{product_uri.split('.')[0]}.tif', 'w',\n",
    "    driver='GTiff',\n",
    "    height=glint_array.shape[0],\n",
    "    width=glint_array.shape[1],\n",
    "    count=1,\n",
    "    dtype=glint_array.dtype,\n",
    "    crs=crs,\n",
    "    transform=transform\n",
    ") as dst:\n",
    "    dst.write(glint_array, 1)\n"
   ]
  },
  {
   "cell_type": "code",
   "execution_count": 22,
   "metadata": {},
   "outputs": [
    {
     "data": {
      "text/html": [
       "\n",
       "            <style>\n",
       "                .geemap-dark {\n",
       "                    --jp-widgets-color: white;\n",
       "                    --jp-widgets-label-color: white;\n",
       "                    --jp-ui-font-color1: white;\n",
       "                    --jp-layout-color2: #454545;\n",
       "                    background-color: #383838;\n",
       "                }\n",
       "\n",
       "                .geemap-dark .jupyter-button {\n",
       "                    --jp-layout-color3: #383838;\n",
       "                }\n",
       "\n",
       "                .geemap-colab {\n",
       "                    background-color: var(--colab-primary-surface-color, white);\n",
       "                }\n",
       "\n",
       "                .geemap-colab .jupyter-button {\n",
       "                    --jp-layout-color3: var(--colab-primary-surface-color, white);\n",
       "                }\n",
       "            </style>\n",
       "            "
      ],
      "text/plain": [
       "<IPython.core.display.HTML object>"
      ]
     },
     "metadata": {},
     "output_type": "display_data"
    }
   ],
   "source": [
    "from rio_cogeo.cogeo import cog_translate\n",
    "from rio_cogeo import cog_profiles\n",
    "\n",
    "def _translate(src_path, dst_path, profile=\"raw\", profile_options={}, **options):\n",
    "    \"\"\"Convert image to COG.\"\"\"\n",
    "    # Format creation option (see gdalwarp `-co` option)\n",
    "    output_profile = cog_profiles.get(profile)\n",
    "    output_profile.update(dict(BIGTIFF=\"IF_SAFER\"))\n",
    "    output_profile.update(profile_options)\n",
    "\n",
    "    # Dataset Open option (see gdalwarp `-oo` option)\n",
    "    config = dict(\n",
    "        GDAL_NUM_THREADS=\"ALL_CPUS\",\n",
    "        GDAL_TIFF_INTERNAL_MASK=True,\n",
    "        GDAL_TIFF_OVR_BLOCKSIZE=\"256\",\n",
    "    )\n",
    "\n",
    "    cog_translate(\n",
    "        src_path,\n",
    "        dst_path,\n",
    "        output_profile,\n",
    "        config=config,\n",
    "        in_memory=False,\n",
    "        quiet=True,\n",
    "        **options,\n",
    "    )\n",
    "    return True"
   ]
  },
  {
   "cell_type": "code",
   "execution_count": 23,
   "metadata": {},
   "outputs": [
    {
     "data": {
      "text/html": [
       "\n",
       "            <style>\n",
       "                .geemap-dark {\n",
       "                    --jp-widgets-color: white;\n",
       "                    --jp-widgets-label-color: white;\n",
       "                    --jp-ui-font-color1: white;\n",
       "                    --jp-layout-color2: #454545;\n",
       "                    background-color: #383838;\n",
       "                }\n",
       "\n",
       "                .geemap-dark .jupyter-button {\n",
       "                    --jp-layout-color3: #383838;\n",
       "                }\n",
       "\n",
       "                .geemap-colab {\n",
       "                    background-color: var(--colab-primary-surface-color, white);\n",
       "                }\n",
       "\n",
       "                .geemap-colab .jupyter-button {\n",
       "                    --jp-layout-color3: var(--colab-primary-surface-color, white);\n",
       "                }\n",
       "            </style>\n",
       "            "
      ],
      "text/plain": [
       "<IPython.core.display.HTML object>"
      ]
     },
     "metadata": {},
     "output_type": "display_data"
    },
    {
     "data": {
      "text/plain": [
       "True"
      ]
     },
     "execution_count": 23,
     "metadata": {},
     "output_type": "execute_result"
    }
   ],
   "source": [
    "_translate('/Users/brendanjarrell/Documents/GitHub/offshore-methane/notebooks/glint_S2B_MSIL2A_20230505T163839_N0509_R126_T15QWB_20230505T203828.tif','/Users/brendanjarrell/Documents/GitHub/offshore-methane/notebooks/glint_S2B_MSIL2A_20230505T163839_N0509_R126_T15QWB_20230505T203828_cog.tif')"
   ]
  },
  {
   "cell_type": "code",
   "execution_count": 28,
   "metadata": {},
   "outputs": [
    {
     "data": {
      "text/html": [
       "\n",
       "            <style>\n",
       "                .geemap-dark {\n",
       "                    --jp-widgets-color: white;\n",
       "                    --jp-widgets-label-color: white;\n",
       "                    --jp-ui-font-color1: white;\n",
       "                    --jp-layout-color2: #454545;\n",
       "                    background-color: #383838;\n",
       "                }\n",
       "\n",
       "                .geemap-dark .jupyter-button {\n",
       "                    --jp-layout-color3: #383838;\n",
       "                }\n",
       "\n",
       "                .geemap-colab {\n",
       "                    background-color: var(--colab-primary-surface-color, white);\n",
       "                }\n",
       "\n",
       "                .geemap-colab .jupyter-button {\n",
       "                    --jp-layout-color3: var(--colab-primary-surface-color, white);\n",
       "                }\n",
       "            </style>\n",
       "            "
      ],
      "text/plain": [
       "<IPython.core.display.HTML object>"
      ]
     },
     "metadata": {},
     "output_type": "display_data"
    },
    {
     "data": {
      "text/plain": [
       "'S2B_MSIL2A_20230505T163839_N0509_R126_T15QWB_20230505T203828.SAFE'"
      ]
     },
     "execution_count": 28,
     "metadata": {},
     "output_type": "execute_result"
    }
   ],
   "source": [
    "product_uri"
   ]
  },
  {
   "cell_type": "code",
   "execution_count": 24,
   "metadata": {},
   "outputs": [
    {
     "data": {
      "text/html": [
       "\n",
       "            <style>\n",
       "                .geemap-dark {\n",
       "                    --jp-widgets-color: white;\n",
       "                    --jp-widgets-label-color: white;\n",
       "                    --jp-ui-font-color1: white;\n",
       "                    --jp-layout-color2: #454545;\n",
       "                    background-color: #383838;\n",
       "                }\n",
       "\n",
       "                .geemap-dark .jupyter-button {\n",
       "                    --jp-layout-color3: #383838;\n",
       "                }\n",
       "\n",
       "                .geemap-colab {\n",
       "                    background-color: var(--colab-primary-surface-color, white);\n",
       "                }\n",
       "\n",
       "                .geemap-colab .jupyter-button {\n",
       "                    --jp-layout-color3: var(--colab-primary-surface-color, white);\n",
       "                }\n",
       "            </style>\n",
       "            "
      ],
      "text/plain": [
       "<IPython.core.display.HTML object>"
      ]
     },
     "metadata": {},
     "output_type": "display_data"
    },
    {
     "name": "stdout",
     "output_type": "stream",
     "text": [
      "File glint_S2B_MSIL2A_20230505T163839_N0509_R126_T15QWB_20230505T203828_cog.tif uploaded to glint-images-s2.\n"
     ]
    }
   ],
   "source": [
    "# Upload the image to Google Cloud Storage\n",
    "from matplotlib import image\n",
    "\n",
    "\n",
    "bucket_name = 'glint-images-s2'\n",
    "# destination_blob_name = 'example.tif'\n",
    "source_file_name = f'glint_{product_uri.split('.')[0]}_cog.tif'\n",
    "\n",
    "bucket = client.bucket(bucket_name)\n",
    "blob = bucket.blob(source_file_name)\n",
    "blob.upload_from_filename(source_file_name)\n",
    "\n",
    "print(f\"File {source_file_name} uploaded to {bucket_name}.\")\n",
    "\n",
    "# Load the image into Google Earth Engine\n",
    "gcs_image_url = f\"gs://{bucket_name}/{source_file_name}\""
   ]
  },
  {
   "cell_type": "code",
   "execution_count": 25,
   "metadata": {},
   "outputs": [
    {
     "data": {
      "text/html": [
       "\n",
       "            <style>\n",
       "                .geemap-dark {\n",
       "                    --jp-widgets-color: white;\n",
       "                    --jp-widgets-label-color: white;\n",
       "                    --jp-ui-font-color1: white;\n",
       "                    --jp-layout-color2: #454545;\n",
       "                    background-color: #383838;\n",
       "                }\n",
       "\n",
       "                .geemap-dark .jupyter-button {\n",
       "                    --jp-layout-color3: #383838;\n",
       "                }\n",
       "\n",
       "                .geemap-colab {\n",
       "                    background-color: var(--colab-primary-surface-color, white);\n",
       "                }\n",
       "\n",
       "                .geemap-colab .jupyter-button {\n",
       "                    --jp-layout-color3: var(--colab-primary-surface-color, white);\n",
       "                }\n",
       "            </style>\n",
       "            "
      ],
      "text/plain": [
       "<IPython.core.display.HTML object>"
      ]
     },
     "metadata": {},
     "output_type": "display_data"
    },
    {
     "name": "stdout",
     "output_type": "stream",
     "text": [
      "{'type': 'Image', 'bands': [{'id': 'B0', 'data_type': {'type': 'PixelType', 'precision': 'double'}, 'dimensions': [23, 23], 'crs': 'EPSG:32615', 'crs_transform': [5000, 0, 499980, 0, -5000, 2200020]}]}\n"
     ]
    }
   ],
   "source": [
    "image = ee.Image.loadGeoTIFF(gcs_image_url)\n",
    "print(image.getInfo())"
   ]
  },
  {
   "cell_type": "code",
   "execution_count": 8,
   "metadata": {},
   "outputs": [
    {
     "data": {
      "text/html": [
       "\n",
       "            <style>\n",
       "                .geemap-dark {\n",
       "                    --jp-widgets-color: white;\n",
       "                    --jp-widgets-label-color: white;\n",
       "                    --jp-ui-font-color1: white;\n",
       "                    --jp-layout-color2: #454545;\n",
       "                    background-color: #383838;\n",
       "                }\n",
       "\n",
       "                .geemap-dark .jupyter-button {\n",
       "                    --jp-layout-color3: #383838;\n",
       "                }\n",
       "\n",
       "                .geemap-colab {\n",
       "                    background-color: var(--colab-primary-surface-color, white);\n",
       "                }\n",
       "\n",
       "                .geemap-colab .jupyter-button {\n",
       "                    --jp-layout-color3: var(--colab-primary-surface-color, white);\n",
       "                }\n",
       "            </style>\n",
       "            "
      ],
      "text/plain": [
       "<IPython.core.display.HTML object>"
      ]
     },
     "metadata": {},
     "output_type": "display_data"
    },
    {
     "name": "stderr",
     "output_type": "stream",
     "text": [
      "/var/folders/9v/x_rm5y652vnf054kd69_9s100000gn/T/ipykernel_24987/589416334.py:14: RuntimeWarning: Mean of empty slice\n",
      "  return np.nanmean(arrays_lst, axis=0)\n"
     ]
    },
    {
     "data": {
      "image/png": "[encoded data removed]",
      "text/plain": [
       "<Figure size 1500x1500 with 1 Axes>"
      ]
     },
     "metadata": {},
     "output_type": "display_data"
    }
   ],
   "source": [
    "def get_grid_values_from_xml(tree_node, xpath_str):\n",
    "    '''Receives a XML tree node and a XPath parsing string and search for children matching the string.\n",
    "       Then, extract the VALUES in <values> v1 v2 v3 </values> <values> v4 v5 v6 </values> format as numpy array\n",
    "       Loop through the arrays to compute the mean.\n",
    "    '''\n",
    "    node_list = tree_node.xpath(xpath_str)\n",
    "\n",
    "    arrays_lst = []\n",
    "    for node in node_list:\n",
    "        values_lst = node.xpath('.//VALUES/text()')\n",
    "        values_arr = np.array(list(map(lambda x: x.split(' '), values_lst))).astype('float')\n",
    "        arrays_lst.append(values_arr)\n",
    "\n",
    "    return np.nanmean(arrays_lst, axis=0)\n",
    "\n",
    "# Creates a glint map that gets output to GCS.\n",
    "# index expects a system:index.\n",
    "# Ex: 20230505T163839_20230505T165653_T15QWB.\n",
    "def create_sunglint_map_s2(index, out_bucket=None):\n",
    "\n",
    "    # Load in image of interest.\n",
    "    image = ee.Image(f'COPERNICUS/S2_HARMONIZED/{index}')\n",
    "\n",
    "    # Find SR equivalent image.\n",
    "    sr_img = (ee.ImageCollection('COPERNICUS/S2_SR_HARMONIZED')\n",
    "             .filterBounds(image.geometry())\n",
    "             .filter(ee.Filter.eq('system:index',index)).first())\n",
    "\n",
    "    # Retireving information from the equivalent SR image.\n",
    "    sr_index = sr_img.get('system:index').getInfo()\n",
    "    projection_info = sr_img.select('B12').projection().getInfo()\n",
    "    transform = projection_info['transform']\n",
    "    crs = projection_info['crs']\n",
    "    transform[0] = 5000\n",
    "    transform[4] = -5000\n",
    "\n",
    "    tile_ids = sr_index.split('_')[2]\n",
    "\n",
    "    # These will be used to get our product of interest.\n",
    "    tile_num = tile_ids[1:3]\n",
    "    lat_band = tile_ids[3]\n",
    "    grid_square = tile_ids[4:]\n",
    "    product_uri = sr_img.get('PRODUCT_ID').getInfo()+'.SAFE'\n",
    "    granule_id = sr_img.get('GRANULE_ID').getInfo()\n",
    "\n",
    "    # Name of xml product to query, which holds metadata for solar angles.\n",
    "    # ex: gs://gcp-public-data-sentinel-2/L2/tiles/01/C/CV/S2B_MSIL2A_20181213T210519_N0211_R071_T01CCV_20181213T221546.SAFE/GRANULE/L2A_T01CCV_A009249_20181213T210519/MTD_TL.xml\n",
    "    file_id = f\"L2/tiles/{tile_num}/{lat_band}/{grid_square}/{product_uri}/GRANULE/{granule_id}/MTD_TL.xml\"\n",
    "\n",
    "\n",
    "    client = storage.Client()\n",
    "    s2_bucket = client.get_bucket(\"gcp-public-data-sentinel-2\")\n",
    "    blob = s2_bucket.blob(file_id)\n",
    "    glint_bytes = blob.download_as_bytes()\n",
    "    \n",
    "    # create a XML parser to parse the metadata and retrieve its root\n",
    "    parser = etree.XMLParser(no_network=True, remove_blank_text=True)\n",
    "    root = etree.fromstring(glint_bytes, parser=parser)\n",
    "    \n",
    "    # Retrieve our angle rasters from the metadata.\n",
    "    sun_zenith = get_grid_values_from_xml(root, './/Sun_Angles_Grid/Zenith')\n",
    "    sun_azimuth = get_grid_values_from_xml(root, './/Sun_Angles_Grid/Azimuth')\n",
    "\n",
    "    view_zenith = get_grid_values_from_xml(root, './/Viewing_Incidence_Angles_Grids/Zenith')\n",
    "    view_azimuth = get_grid_values_from_xml(root, './/Viewing_Incidence_Angles_Grids/Azimuth')\n",
    "\n",
    "    \n",
    "    # convert angles arrays to radians\n",
    "    theta_naught = np.deg2rad(sun_zenith)\n",
    "    phi_naught = np.deg2rad(sun_azimuth)\n",
    "\n",
    "    theta = np.deg2rad(view_zenith)\n",
    "    phi = np.deg2rad(view_azimuth)\n",
    "\n",
    "    # Step-by-step computation\n",
    "    a = np.cos(theta_naught + theta) + np.cos(theta_naught - theta)\n",
    "    b = np.cos(theta_naught + theta) - np.cos(theta_naught - theta)\n",
    "    c = np.cos(phi_naught - phi)\n",
    "\n",
    "    arg = (a + b * c) / 2.0\n",
    "    alpha = np.arccos(arg)  # Resulting glint angle\n",
    "\n",
    "    # convert results to degrees\n",
    "    glint_array = np.degrees(alpha)\n",
    "    glint_array[np.isnan(glint_array)] = -1\n",
    "\n",
    "    return glint_array\n",
    "\n",
    "test = create_sunglint_map_s2('20230505T163839_20230505T165653_T15QWB')\n",
    "\n",
    "fig, ax = create_annotated_heatmap(test)"
   ]
  }
 ],
 "metadata": {
  "kernelspec": {
   "display_name": "methane",
   "language": "python",
   "name": "python3"
  },
  "language_info": {
   "codemirror_mode": {
    "name": "ipython",
    "version": 3
   },
   "file_extension": ".py",
   "mimetype": "text/x-python",
   "name": "python",
   "nbconvert_exporter": "python",
   "pygments_lexer": "ipython3",
   "version": "3.13.3"
  }
 },
 "nbformat": 4,
 "nbformat_minor": 2
}
