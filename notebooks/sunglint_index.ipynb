{
 "cells": [
  {
   "cell_type": "code",
   "execution_count": null,
   "id": "6e691f5c",
   "metadata": {},
   "outputs": [],
   "source": [
    "import ee\n",
    "import math\n",
    "import geopandas as gpd\n",
    "from shapely import Point\n",
    "import geemap\n",
    "ee.Initialize()\n",
    "print('Earth Engine initialized.')"
   ]
  },
  {
   "cell_type": "code",
   "execution_count": null,
   "id": "c10bae8c",
   "metadata": {},
   "outputs": [],
   "source": [
    "# Step 1: Reference image you know exists\n",
    "reference_id1 = 'COPERNICUS/S2_SR/20230611T162839_20230611T164034_T16RBT'\n",
    "reference_id2 = \"COPERNICUS/S2_SR/20220520T163839_20220520T165147_T15RYL\"\n",
    "\n",
    "def expanded_mosaic(ref_img):\n",
    "    ref_time = ee.Date(ref_img.get('system:time_start'))\n",
    "\n",
    "    # Step 3: Filter all S2_SR tiles within ±1 min of this timestamp\n",
    "    collection = ee.ImageCollection('COPERNICUS/S2_SR') \\\n",
    "        .filterDate(ref_time.advance(-1, 'minute'), ref_time.advance(1, 'minute'))\n",
    "    # Step 4: Mosaic\n",
    "    return collection.mosaic()\n",
    "mosaic1 = expanded_mosaic(ee.Image(reference_id1))\n",
    "mosaic2 = expanded_mosaic(ee.Image(reference_id2))\n",
    "\n",
    "# Step 5: Visualize (optional)\n",
    "Map = geemap.Map(center=[29.31, -89.52], zoom=6)\n",
    "vis = {\n",
    "    'bands': ['B4', 'B3', 'B2'],\n",
    "    'min': 0,\n",
    "    'max': 3500\n",
    "}\n",
    "Map.addLayer(mosaic1, vis, 'S2 Sunglint Mosaic 1')\n",
    "Map.addLayer(mosaic2, vis, 'S2 Sunglint Mosaic 2')\n",
    "Map"
   ]
  },
  {
   "cell_type": "code",
   "execution_count": null,
   "id": "49cdd231",
   "metadata": {},
   "outputs": [],
   "source": []
  }
 ],
 "metadata": {
  "kernelspec": {
   "display_name": "Python 3",
   "language": "python",
   "name": "python3"
  },
  "language_info": {
   "codemirror_mode": {
    "name": "ipython",
    "version": 3
   },
   "file_extension": ".py",
   "mimetype": "text/x-python",
   "name": "python",
   "nbconvert_exporter": "python",
   "pygments_lexer": "ipython3",
   "version": "3.13.3"
  }
 },
 "nbformat": 4,
 "nbformat_minor": 5
}
