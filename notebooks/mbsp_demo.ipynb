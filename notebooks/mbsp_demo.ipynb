{
  "cells": [
    {
      "cell_type": "markdown",
      "metadata": {},
      "source": [
        "# MultiBand Single Pass (MBSP) Demo",
        "",
        "This notebook demonstrates the use of the `mbsp` module for methane plume analysis."
      ]
    },
    {
      "cell_type": "markdown",
      "metadata": {},
      "source": [
        "## Setup\n",
        "Import the required packages and authenticate Earth Engine."
      ]
    },
    {
      "cell_type": "code",
      "execution_count": null,
      "metadata": {},
      "outputs": [],
      "source": [
        "import ee",
        "import geemap",
        "import matplotlib.pyplot as plt",
        "import numpy as np",
        "import sys, pathlib",
        "sys.path.append(str(pathlib.Path.cwd()/\"src\"))",
        "import mbsp",
        "",
        "ee.Initialize()"
      ]
    },
    {
      "cell_type": "markdown",
      "metadata": {},
      "source": [
        "## Processing functions"
      ]
    },
    {
      "cell_type": "code",
      "execution_count": null,
      "metadata": {},
      "outputs": [],
      "source": [
        "def analyze_scene(lat, lon, start_date, end_date):\n",
        "    col = mbsp.load_l1c_collection(lat, lon, start_date, end_date)\n",
        "    img = col.first().resample('bicubic').reproject('EPSG:32633', scale=20)\n",
        "    b11 = geemap.ee_to_numpy(img.select('B11'))\n",
        "    b12 = geemap.ee_to_numpy(img.select('B12'))\n",
        "    mbsp_arr, _ = mbsp.mbsp_arrays(b11, b12)\n",
        "    column = mbsp.detrend_and_smooth(mbsp.mbsp_to_column(mbsp_arr))\n",
        "    mask = mbsp.plume_mask(column)\n",
        "    rate = mbsp.ime_and_rate(column, mask, wind_speed=5)\n",
        "    return column, mask, rate\n",
        "\n",
        "def show_results(column, mask, rate):\n",
        "    plt.figure(figsize=(6, 6))\n",
        "    plt.imshow(column, cmap='viridis')\n",
        "    plt.contour(mask, colors='red', linewidths=0.5)\n",
        "    plt.colorbar(label='ΔX (ppb km)')\n",
        "    plt.title(f'Estimated rate {rate:.2f} t/h')\n",
        "    plt.show()\n"
      ]
    },
    {
      "cell_type": "markdown",
      "metadata": {},
      "source": [
        "## Example usage\n",
        "Specify the point of interest and time range."
      ]
    },
    {
      "cell_type": "code",
      "execution_count": null,
      "metadata": {},
      "outputs": [],
      "source": [
        "lat = 31.6585",
        "lon = 5.9053",
        "start = '2020-07-01'",
        "end = '2020-07-31'",
        "",
        "column, mask, rate = analyze_scene(lat, lon, start, end)",
        "show_results(column, mask, rate)"
      ]
    }
  ],
  "metadata": {
    "kernelspec": {
      "display_name": "methane",
      "language": "python",
      "name": "python3"
    },
    "language_info": {
      "codemirror_mode": {
        "name": "ipython",
        "version": 3
      },
      "file_extension": ".py",
      "mimetype": "text/x-python",
      "name": "python",
      "nbconvert_exporter": "python",
      "pygments_lexer": "ipython3",
      "version": "3.13.3"
    }
  },
  "nbformat": 4,
  "nbformat_minor": 2
}
