{
  "cells": [
    {
      "cell_type": "markdown",
      "id": "8d8ff537",
      "metadata": {},
      "source": [
        "# MultiBand Single Pass (MBSP) Demonstration\n",
        "\n",
        "This notebook demonstrates a basic implementation of the MBSP algorithm\n",
        "described in *Varon et al. (2021)* for detecting large methane plumes using\n",
        "Sentinel‑-2 imagery. The MBSP method compares band‑11 and band‑12\n",
        "reflectances for a single scene to retrieve methane column enhancements.\n",
        "We keep core routines in `src/mbsp.py` for reuse, while image selection\n",
        "and experimentation remain in the notebook."
      ]
    },
    {
      "cell_type": "markdown",
      "id": "72acf27b",
      "metadata": {},
      "source": [
        "## MBSP versus MBMP\n",
        "\n",
        "MBSP uses two spectral bands from a single acquisition. A scaling coefficient\n",
        "is fitted between bands 11 and 12 over the scene and the fractional absorption\n",
        "is computed as:\n",
        "\n",
        "\\begin{align}\n",
        "R_{MBSP} = \\frac{c R_{12} - R_{11}}{R_{11}}\n",
        "\\end{align}\n",
        "\n",
        "where $c$ is the slope from fitting $R_{12}$ to $R_{11}$. This approach relies\n",
        "on the surface behaving similarly in both bands.\n",
        "\n",
        "The MultiBand MultiPass (MBMP) technique performs the MBSP retrieval on two\n",
        "different dates and subtracts them to reduce artifacts. MBMP generally provides\n",
        "better precision when a good plume‑free reference image is available."
      ]
    },
    {
      "cell_type": "code",
      "execution_count": null,
      "id": "be722ace",
      "metadata": {
        "lines_to_next_cell": 1
      },
      "outputs": [],
      "source": [
        "import datetime as dt\n",
        "\n",
        "import ee\n",
        "import geemap\n",
        "\n",
        "# Authenticate with Earth Engine\n",
        "ee.Authenticate()\n",
        "ee.Initialize()\n"
      ]
    },
    {
      "cell_type": "markdown",
      "id": "8d068c31",
      "metadata": {},
      "source": [
        "## Helper Functions"
      ]
    },
    {
      "cell_type": "code",
      "execution_count": null,
      "id": "d4d4ef5c",
      "metadata": {},
      "outputs": [],
      "source": [
        "\n",
        "def mask_s2_clouds(image: ee.Image) -> ee.Image:\n",
        "    \"\"\"Mask clouds using the QA60 band.\"\"\"\n",
        "    qa = image.select(\"QA60\")\n",
        "    cloud_bit_mask = 1 << 10\n",
        "    cirrus_bit_mask = 1 << 11\n",
        "    mask = (\n",
        "        qa.bitwiseAnd(cloud_bit_mask)\n",
        "        .eq(0)\n",
        "        .And(qa.bitwiseAnd(cirrus_bit_mask).eq(0))\n",
        "    )\n",
        "    return image.updateMask(mask).divide(10000)"
      ]
    },
    {
      "cell_type": "code",
      "execution_count": null,
      "metadata": {},
      "outputs": [],
      "source": [
        "def mbsp_fractional_image(image: ee.Image, region: ee.Geometry) -> ee.Image:\n",
        "    \"\"\"Return MBSP fractional signal as an Earth Engine image.\"\"\"\n",
        "    s12 = image.select('B11').multiply(image.select('B12'))\n",
        "    sum_s12 = s12.reduceRegion(ee.Reducer.sum(), region, 20, bestEffort=True)\n",
        "    s12_val = ee.Number(sum_s12.get('B11'))\n",
        "    s22 = image.select('B12').multiply(image.select('B12'))\n",
        "    sum_s22 = s22.reduceRegion(ee.Reducer.sum(), region, 20, bestEffort=True)\n",
        "    s22_val = ee.Number(sum_s22.get('B12'))\n",
        "    c = s12_val.divide(s22_val)\n",
        "    r = image.select('B12').multiply(c).subtract(image.select('B11')).divide(image.select('B11')).rename('R')\n",
        "    return r.set({'slope': c})\n"
      ]
    },
    {
      "cell_type": "markdown",
      "id": "9ad4efb8",
      "metadata": {},
      "source": [
        "## Image Selection"
      ]
    },
    {
      "cell_type": "code",
      "execution_count": null,
      "id": "3a090349",
      "metadata": {},
      "outputs": [],
      "source": [
        "# Location and date range of interest\n",
        "lat, lon = 31.6585, 5.9053  # Hassi Messaoud example\n",
        "start = dt.date(2019, 10, 1)\n",
        "end = dt.date(2019, 10, 31)\n",
        "\n",
        "point = ee.Geometry.Point(lon, lat)\n",
        "collection = (\n",
        "    ee.ImageCollection(\"COPERNICUS/S2_SR_HARMONIZED\")\n",
        "    .filterDate(str(start), str(end))\n",
        "    .filterBounds(point)\n",
        "    .filter(ee.Filter.lt(\"CLOUDY_PIXEL_PERCENTAGE\", 20))\n",
        "    .sort('system:time_start')\n",
        "    .map(mask_s2_clouds)\n",
        ")\n",
        "\n",
        "images = collection.toList(collection.size())\n",
        "count = images.size().getInfo()\n",
        "print(f\"Found {count} images\")"
      ]
    },
    {
      "cell_type": "code",
      "execution_count": null,
      "metadata": {},
      "outputs": [],
      "source": [
        "if count:\n",
        "    region = point.buffer(1000).bounds()\n",
        "    m = geemap.Map(center=(lat, lon), zoom=12)\n",
        "    for i in range(count):\n",
        "        img = ee.Image(images.get(i))\n",
        "        date = ee.Date(img.get('system:time_start')).format('YYYY-MM-dd').getInfo()\n",
        "        r_img = mbsp_fractional_image(img, region)\n",
        "        m.addLayer(r_img, {'min': -0.05, 'max': 0.05, 'palette': ['blue', 'white', 'red']}, f'{date} fractional', True)\n",
        "        rgb = img.select(['B4','B3','B2'])\n",
        "        m.addLayer(rgb, {'min': 0, 'max': 0.3}, f'{date} RGB', False)\n",
        "    m\n"
      ]
    },
    {
      "cell_type": "markdown",
      "id": "af26e7ba",
      "metadata": {
        "lines_to_next_cell": 2
      },
      "source": [
        "The map above contains fractional signal layers for each scene interleaved\n",
        "with true-color imagery. Fractional layers are visible by default to help\n",
        "identify methane plumes over time."
      ]
    }
  ],
  "metadata": {
    "kernelspec": {
      "display_name": "Python 3",
      "language": "python",
      "name": "python3"
    }
  },
  "nbformat": 4,
  "nbformat_minor": 5
}
   "name": "python",
   "nbconvert_exporter": "python",
   "pygments_lexer": "ipython3",
   "version": "3.13.3"
  }
 },
 "nbformat": 4,
 "nbformat_minor": 5
}
