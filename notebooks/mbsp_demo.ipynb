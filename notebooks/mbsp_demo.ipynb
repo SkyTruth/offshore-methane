{
 "cells": [
  {
   "cell_type": "markdown",
   "metadata": {},
   "source": [
    "# MultiBand Single Pass (MBSP) Demo",
    "\n",
    "This notebook demonstrates a simple implementation of the MBSP methane retrieval algorithm described in Varon et al. (2021).",
    "It lets you load a stack of Sentinel-2 images for a point of interest, process each image, and review the results."
   ]
  },
  {
   "cell_type": "markdown",
   "metadata": {},
   "source": [
    "## Setup",
    "Import the required packages and authenticate Earth Engine."
   ]
  },
  {
   "cell_type": "code",
   "metadata": {},
   "execution_count": null,
   "outputs": [],
   "source": [
    "import ee\n",
    "import numpy as np\n",
    "import geemap\n",
    "import matplotlib.pyplot as plt\n",
    "\n",
    "ee.Initialize()"
   ]
  },
  {
   "cell_type": "markdown",
   "metadata": {},
   "source": [
    "## Utility functions"
   ]
  },
  {
   "cell_type": "code",
   "metadata": {},
   "execution_count": null,
   "outputs": [],
   "source": [
    "def load_sentinel2_stack(lat, lon, start_date, end_date, cloud=20, region_km=2):\n",
    "    \"\"\"Return an Earth Engine ImageCollection clipped to a small region.\"\"\"\n",
    "    point = ee.Geometry.Point(lon, lat)\n",
    "    roi = point.buffer(region_km * 500).bounds()\n",
    "    col = (\n",
    "        ee.ImageCollection('COPERNICUS/S2_SR')\n",
    "        .filterBounds(point)\n",
    "        .filterDate(start_date, end_date)\n",
    "        .filter(ee.Filter.lt('CLOUDY_PIXEL_PERCENTAGE', cloud))\n",
    "        .map(lambda img: img.clip(roi))\n",
    "    )\n",
    "    return col.sort('system:time_start')\n",
    "\n",
    "def mbsp(b11, b12):\n",
    "    \"\"\"Compute MBSP fractional absorption for two numpy arrays.\"\"\"\n",
    "    r11 = b11.astype(float)\n",
    "    r12 = b12.astype(float)\n",
    "    c = np.sum(r11 * r12) / np.sum(r11 ** 2)\n",
    "    return np.divide(c * r12 - r11, r11, out=np.full_like(r11, np.nan), where=r11 != 0)\n",
    "\n",
    "def process_stack(collection):\n",
    "    \"\"\"Iterate through the collection and compute MBSP for each image.\"\"\"\n",
    "    size = collection.size().getInfo()\n",
    "    results = []\n",
    "    for i in range(size):\n",
    "        img = ee.Image(collection.toList(size).get(i))\n",
    "        t = ee.Date(img.get('system:time_start')).format('YYYY-MM-dd').getInfo()\n",
    "        b11 = geemap.ee_to_numpy(img.select('B11'))\n",
    "        b12 = geemap.ee_to_numpy(img.select('B12'))\n",
    "        mbsp_arr = mbsp(b11, b12)\n",
    "        results.append({'date': t, 'mbsp': mbsp_arr})\n",
    "    return results\n",
    "\n",
    "def show_result(result):\n",
    "    plt.figure(figsize=(6, 6))\n",
    "    plt.imshow(result['mbsp'], cmap='RdBu')\n",
    "    plt.title(result['date'])\n",
    "    plt.colorbar(label='Fractional change')\n",
    "    plt.show()"
   ]
  },
  {
   "cell_type": "markdown",
   "metadata": {},
   "source": [
    "## Example usage",
    "Specify the point of interest and time range."
   ]
  },
  {
   "cell_type": "code",
   "metadata": {},
   "execution_count": null,
   "outputs": [],
   "source": [
    "lat = 31.6585\n",
    "lon = 5.9053\n",
    "start = '2020-07-01'\n",
    "end = '2020-07-31'\n",
    "\n",
    "collection = load_sentinel2_stack(lat, lon, start, end)\n",
    "results = process_stack(collection)\n",
    "\n",
    "for r in results:\n",
    "    show_result(r)"
   ]
  }
 ],
 "metadata": {
  "kernelspec": {
   "display_name": "Python 3",
   "language": "python",
   "name": "python3"
  },
  "language_info": {
   "name": "python",
   "version": "3.10"
  }
 },
 "nbformat": 4,
 "nbformat_minor": 2
}
