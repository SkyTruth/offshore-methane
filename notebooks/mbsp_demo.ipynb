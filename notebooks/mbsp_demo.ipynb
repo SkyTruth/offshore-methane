{
 "cells": [
  {
   "cell_type": "markdown",
   "id": "8d8ff537",
   "metadata": {},
   "source": [
    "# MultiBand Single Pass (MBSP) Demonstration\n",
    "\n",
    "This notebook demonstrates a basic implementation of the MBSP algorithm\n",
    "described in *Varon et al. (2021)* for detecting large methane plumes using\n",
    "Sentinel‑-2 imagery. The MBSP method compares band‑11 and band‑12\n",
    "reflectances for a single scene to retrieve methane column enhancements.\n",
    "We keep core routines in `src/mbsp.py` for reuse, while image selection\n",
    "and experimentation remain in the notebook."
   ]
  },
  {
   "cell_type": "markdown",
   "id": "72acf27b",
   "metadata": {},
   "source": [
    "## MBSP versus MBMP\n",
    "\n",
    "MBSP uses two spectral bands from a single acquisition. A scaling coefficient\n",
    "is fitted between bands 11 and 12 over the scene and the fractional absorption\n",
    "is computed as:\n",
    "\n",
    "\\begin{align}\n",
    "R_{MBSP} = \\frac{c R_{12} - R_{11}}{R_{11}}\n",
    "\\end{align}\n",
    "\n",
    "where $c$ is the slope from fitting $R_{12}$ to $R_{11}$. This approach relies\n",
    "on the surface behaving similarly in both bands.\n",
    "\n",
    "The MultiBand MultiPass (MBMP) technique performs the MBSP retrieval on two\n",
    "different dates and subtracts them to reduce artifacts. MBMP generally provides\n",
    "better precision when a good plume‑free reference image is available."
   ]
  },
  {
   "cell_type": "code",
   "execution_count": null,
   "id": "be722ace",
   "metadata": {
    "lines_to_next_cell": 1
   },
   "outputs": [],
   "source": [
    "import datetime as dt\n",
    "\n",
    "import ee\n",
    "import geemap\n",
    "import numpy as np\n",
    "import matplotlib.pyplot as plt\n",
    "\n",
    "from offshore_methane import mbsp\n",
    "\n",
    "ee.Initialize()"
   ]
  },
  {
   "cell_type": "markdown",
   "id": "8d068c31",
   "metadata": {},
   "source": [
    "## Helper Functions"
   ]
  },
  {
   "cell_type": "code",
   "execution_count": null,
   "id": "d4d4ef5c",
   "metadata": {},
   "outputs": [],
   "source": [
    "def mask_s2_clouds(image: ee.Image) -> ee.Image:\n",
    "    \"\"\"Mask clouds using the QA60 band.\"\"\"\n",
    "    qa = image.select(\"QA60\")\n",
    "    cloud_bit_mask = 1 << 10\n",
    "    cirrus_bit_mask = 1 << 11\n",
    "    mask = qa.bitwiseAnd(cloud_bit_mask).eq(0).And(qa.bitwiseAnd(cirrus_bit_mask).eq(0))\n",
    "    return image.updateMask(mask).divide(10000)"
   ]
  },
  {
   "cell_type": "markdown",
   "id": "9ad4efb8",
   "metadata": {},
   "source": [
    "## Image Selection"
   ]
  },
  {
   "cell_type": "code",
   "execution_count": null,
   "id": "3a090349",
   "metadata": {},
   "outputs": [],
   "source": [
    "# Location and date range of interest\n",
    "lat, lon = 31.6585, 5.9053  # Hassi Messaoud example\n",
    "start = dt.date(2019, 10, 1)\n",
    "end = dt.date(2019, 10, 31)\n",
    "\n",
    "point = ee.Geometry.Point(lon, lat)\n",
    "collection = (\n",
    "    ee.ImageCollection(\"COPERNICUS/S2_HARMONIZED\")\n",
    "    .filterDate(str(start), str(end))\n",
    "    .filterBounds(point)\n",
    "    .filter(ee.Filter.lt(\"CLOUDY_PIXEL_PERCENTAGE\", 20))\n",
    "    .map(mask_s2_clouds)\n",
    ")\n",
    "\n",
    "images = collection.toList(collection.size())\n",
    "count = images.size().getInfo()\n",
    "print(f\"Found {count} images\")"
   ]
  },
  {
   "cell_type": "markdown",
   "id": "d501942b",
   "metadata": {},
   "source": [
    "## MBSP Retrieval for One Image"
   ]
  },
  {
   "cell_type": "code",
   "execution_count": null,
   "id": "0d625861",
   "metadata": {},
   "outputs": [],
   "source": [
    "if count:\n",
    "    image = ee.Image(images.get(0))\n",
    "    region = point.buffer(1000).bounds()  # 2 km region\n",
    "    bands = [\"B11\", \"B12\"]\n",
    "    arr = np.asarray(geemap.ee_to_numpy(image, region=region, bands=bands, scale=20))\n",
    "    b11 = arr[:, :, 0]\n",
    "    b12 = arr[:, :, 1]\n",
    "    c, r = mbsp.mbsp_fractional_absorption(b11, b12)\n",
    "    delta = mbsp.invert_mbsp(r, mbsp.S2_CONSTANTS[\"A\"])\n",
    "    print(\"MBSP slope:\", c)\n",
    "\n",
    "    plt.figure(figsize=(8, 4))\n",
    "    plt.subplot(1, 2, 1)\n",
    "    plt.title(\"MBSP Fractional Signal\")\n",
    "    plt.imshow(r, cmap=\"RdBu\", vmin=-0.05, vmax=0.05)\n",
    "    plt.colorbar(label=\"R\")\n",
    "    plt.subplot(1, 2, 2)\n",
    "    plt.title(\"Retrieved \\u0394CH$_4$\")\n",
    "    plt.imshow(delta, cmap=\"inferno\", vmin=0, vmax=1.0)\n",
    "    plt.colorbar(label=\"mol m$^{-2}$\")\n",
    "    plt.tight_layout()"
   ]
  },
  {
   "cell_type": "markdown",
   "id": "af26e7ba",
   "metadata": {
    "lines_to_next_cell": 2
   },
   "source": [
    "The example above selects the first image in the stack and computes methane\n",
    "enhancements using the MBSP equations. Further analysis could loop over all\n",
    "images in `collection` to build a time series of emissions."
   ]
  }
 ],
 "metadata": {
  "jupytext": {
   "formats": "ipynb,py:percent"
  },
  "kernelspec": {
   "display_name": "methane",
   "language": "python",
   "name": "python3"
  },
  "language_info": {
   "codemirror_mode": {
    "name": "ipython",
    "version": 3
   },
   "file_extension": ".py",
   "mimetype": "text/x-python",
   "name": "python",
   "nbconvert_exporter": "python",
   "pygments_lexer": "ipython3",
   "version": "3.13.3"
  }
 },
 "nbformat": 4,
 "nbformat_minor": 5
}
