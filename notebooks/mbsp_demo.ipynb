{
  "cells": [
    {
      "cell_type": "markdown",
      "id": "8d8ff537",
      "metadata": {},
      "source": [
        "# MultiBand Single Pass (MBSP) Demonstration\n",
        "\n",
        "This notebook demonstrates a basic implementation of the MBSP algorithm\n",
        "described in *Varon et al. (2021)* for detecting large methane plumes using\n",
        "Sentinel‑-2 imagery. The MBSP method compares band‑11 and band‑12\n",
        "reflectances for a single scene to retrieve methane column enhancements.\n",
        "We keep core routines in `src/mbsp.py` for reuse, while image selection\n",
        "and experimentation remain in the notebook."
      ]
    },
    {
      "cell_type": "markdown",
      "id": "72acf27b",
      "metadata": {},
      "source": [
        "## MBSP versus MBMP\n",
        "\n",
        "MBSP uses two spectral bands from a single acquisition. A scaling coefficient\n",
        "is fitted between bands 11 and 12 over the scene and the fractional absorption\n",
        "is computed as:\n",
        "\n",
        "\\begin{align}\n",
        "R_{MBSP} = \\frac{c R_{12} - R_{11}}{R_{11}}\n",
        "\\end{align}\n",
        "\n",
        "where $c$ is the slope from fitting $R_{12}$ to $R_{11}$. This approach relies\n",
        "on the surface behaving similarly in both bands.\n",
        "\n",
        "The MultiBand MultiPass (MBMP) technique performs the MBSP retrieval on two\n",
        "different dates and subtracts them to reduce artifacts. MBMP generally provides\n",
        "better precision when a good plume‑free reference image is available."
      ]
    },
    {
      "cell_type": "code",
      "execution_count": null,
      "id": "be722ace",
      "metadata": {
        "lines_to_next_cell": 1
      },
      "outputs": [],
      "source": [
        "import datetime as dt\n",
        "\n",
        "import ee\n",
        "import geemap\n",
        "\n",
        "# Authenticate with Earth Engine\n",
        "ee.Authenticate()\n",
        "ee.Initialize()\n"
      ]
    },
    {
      "cell_type": "markdown",
      "id": "8d068c31",
      "metadata": {},
      "source": [
        "## Helper Functions"
      ]
    },
    {
      "cell_type": "code",
      "execution_count": null,
      "id": "d4d4ef5c",
      "metadata": {},
      "outputs": [],
      "source": [
        "def mask_s2_clouds(image: ee.Image) -> ee.Image:\n",
        "    \"\"\"Mask clouds using the QA60 band.\"\"\"\n",
        "    qa = image.select(\"QA60\")\n",
        "    cloud_bit_mask = 1 << 10\n",
        "    cirrus_bit_mask = 1 << 11\n",
        "    mask = qa.bitwiseAnd(cloud_bit_mask).eq(0).And(qa.bitwiseAnd(cirrus_bit_mask).eq(0))\n",
        "    masked = image.updateMask(mask).divide(10000)\n",
        "    return masked.copyProperties(image, image.propertyNames())  # <-- keep metadata!"
      ]
    },
    {
      "cell_type": "code",
      "execution_count": null,
      "id": "22cc8b84",
      "metadata": {},
      "outputs": [],
      "source": [
        "def mbsp_fractional_image(image: ee.Image, region: ee.Geometry) -> ee.Image:\n",
        "    \"\"\"\n",
        "    Compute the MBSP (Multi-Band Single-Pass) fractional methane signal\n",
        "    for a Sentinel-2 scene following Varon et al. 2021 (Atmos. Meas. Tech.).\n",
        "\n",
        "    MBSP definition\n",
        "    ----------------\n",
        "        R_MBSP = ( c · R12  –  R11 ) / R11\n",
        "\n",
        "    where\n",
        "        R11, R12 : TOA reflectances for Sentinel-2 bands 11 (1610 nm) and 12 (2190 nm)\n",
        "        c        : scene-wide slope from a zero-intercept linear regression of\n",
        "                   R11 on R12 (c = Σ R11·R12 / Σ R12²)\n",
        "\n",
        "    R_MBSP isolates the methane-induced absorption in band 12 by:\n",
        "      1) Bringing band 12 onto the radiometric scale of band 11 (multiplying by c)\n",
        "      2) Differencing and normalising by R11.\n",
        "\n",
        "    A *negative* R_MBSP indicates that band 12 is darker than expected and is\n",
        "    therefore consistent with CH₄ absorption.\n",
        "\n",
        "    Parameters\n",
        "    ----------\n",
        "    image  : ee.Image\n",
        "        Sentinel-2 L1C/L2A image containing bands ‘B11’ and ‘B12’.\n",
        "    region : ee.Geometry\n",
        "        Area (ideally plume-free) used to derive the scene-wide slope *c*.\n",
        "\n",
        "    Returns\n",
        "    -------\n",
        "    ee.Image\n",
        "        Single-band image named ‘R’ holding the pixel-wise MBSP signal.\n",
        "        The fitted slope *c* is attached as image property ‘slope’.\n",
        "    \"\"\"\n",
        "    # --- 1. Numerator and denominator for the regression slope -----------------\n",
        "    # c = Σ( R11 * R12 ) / Σ( R12² )\n",
        "    num_img = image.select(\"B11\").multiply(image.select(\"B12\"))  # R11·R12\n",
        "    den_img = image.select(\"B12\").multiply(image.select(\"B12\"))  # R12²\n",
        "\n",
        "    num_sum = num_img.reduceRegion(\n",
        "        reducer=ee.Reducer.sum(), geometry=region, scale=20, bestEffort=True\n",
        "    )\n",
        "    den_sum = den_img.reduceRegion(\n",
        "        reducer=ee.Reducer.sum(), geometry=region, scale=20, bestEffort=True\n",
        "    )\n",
        "\n",
        "    # Convert to ee.Number for further arithmetic\n",
        "    slope = ee.Number(num_sum.get(\"B11\")).divide(ee.Number(den_sum.get(\"B12\")))\n",
        "\n",
        "    # --- 2. Per-pixel MBSP field ----------------------------------------------\n",
        "    mbsp = (\n",
        "        image.select(\"B12\")\n",
        "        .multiply(slope)  # c · R12\n",
        "        .subtract(image.select(\"B11\"))\n",
        "        .divide(image.select(\"B11\"))\n",
        "        .rename(\"R\")\n",
        "    )\n",
        "\n",
        "    # Embed the slope for traceability\n",
        "    return mbsp.set({\"slope\": slope})\n"
      ]
    },
    {
      "cell_type": "markdown",
      "id": "9ad4efb8",
      "metadata": {},
      "source": [
        "## Image Selection"
      ]
    },
    {
      "cell_type": "code",
      "execution_count": null,
      "id": "3a090349",
      "metadata": {},
      "outputs": [],
      "source": [
        "# Location and date range of interest\n",
        "lat, lon = 31.6585, 5.9053  # Hassi Messaoud example\n",
        "start = dt.date(2019, 10, 1)\n",
        "end = dt.date(2019, 10, 15)\n",
        "\n",
        "point = ee.Geometry.Point(lon, lat)\n",
        "collection = (\n",
        "    ee.ImageCollection(\"COPERNICUS/S2_SR_HARMONIZED\")\n",
        "    .filterDate(str(start), str(end))\n",
        "    .filterBounds(point)\n",
        "    .filter(ee.Filter.lt(\"CLOUDY_PIXEL_PERCENTAGE\", 20))\n",
        "    .sort(\"system:time_start\")\n",
        "    .map(mask_s2_clouds)\n",
        ")\n",
        "\n",
        "images = collection.toList(collection.size())\n",
        "count = images.size().getInfo()\n",
        "print(f\"Found {count} images\")"
      ]
    },
    {
      "cell_type": "code",
      "execution_count": null,
      "id": "33104c6d",
      "metadata": {},
      "outputs": [],
      "source": [
        "if count:\n",
        "    region = point.buffer(1000).bounds()\n",
        "    m = geemap.Map(center=(lat, lon), zoom=12)\n",
        "    for i in range(count):\n",
        "        img = ee.Image(images.get(i))\n",
        "        date = ee.Date(img.get(\"system:time_start\")).format(\"YYYY-MM-dd\").getInfo()\n",
        "        r_img = mbsp_fractional_image(img, region)\n",
        "        m.addLayer(\n",
        "            r_img,\n",
        "            {\"min\": -0.05, \"max\": 0.05, \"palette\": [\"blue\", \"white\", \"red\"]},\n",
        "            f\"{date} fractional\",\n",
        "            True,\n",
        "        )\n",
        "        rgb = img.select([\"B4\", \"B3\", \"B2\"])\n",
        "        m.addLayer(rgb, {\"min\": 0, \"max\": 0.3}, f\"{date} RGB\", False)\n",
        "\n",
        "    styled_pt = ee.FeatureCollection([point]).style(\n",
        "        **{\n",
        "            \"color\": \"green\",  # outline & fill\n",
        "            \"fillColor\": None,  # no fill\n",
        "            \"pointSize\": 8,  # pixel radius of the dot\n",
        "        }\n",
        "    )\n",
        "    m.addLayer(styled_pt, {}, \"centre pt\", True)"
      ]
    },
    {
      "cell_type": "code",
      "execution_count": null,
      "id": "8a6418d2",
      "metadata": {},
      "outputs": [],
      "source": [
        "m"
      ]
    },
    {
      "cell_type": "markdown",
      "id": "af26e7ba",
      "metadata": {
        "lines_to_next_cell": 2
      },
      "source": [
        "The map above contains fractional signal layers for each scene interleaved\n",
        "with true-color imagery. Fractional layers are visible by default to help\n",
        "identify methane plumes over time."
      ]
    }
  ],
  "metadata": {
    "kernelspec": {
      "display_name": "methane",
      "language": "python",
      "name": "python3"
    },
    "language_info": {
      "codemirror_mode": {
        "name": "ipython",
        "version": 3
      },
      "file_extension": ".py",
      "mimetype": "text/x-python",
      "name": "python",
      "nbconvert_exporter": "python",
      "pygments_lexer": "ipython3",
      "version": "3.13.3"
    }
  },
  "nbformat": 4,
  "nbformat_minor": 5
}
