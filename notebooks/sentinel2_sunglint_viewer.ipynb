{
 "cells": [
  {
   "cell_type": "markdown",
   "id": "c1cf696c",
   "metadata": {},
   "source": [
    "# Sentinel-2 Sunglint Finder with Earth Engine Python API\n",
    "\n",
    "This notebook shows how to find Sentinel-2 scenes over sunglint geometry using the Earth Engine Python API.  \n",
    "Adjust the `bbox`, `start_date`, `end_date`, and other parameters as needed.\n"
   ]
  },
  {
   "cell_type": "code",
   "execution_count": null,
   "id": "588b0818",
   "metadata": {},
   "outputs": [],
   "source": [
    "# 1. Install and import Earth Engine Python API\n",
    "# Uncomment the following line if running in Colab or a new environment:\n",
    "# !pip install earthengine-api\n",
    "%load_ext autoreload\n",
    "%autoreload 2\n",
    "\n",
    "import ee\n",
    "import geopandas as gpd\n",
    "import geemap\n",
    "from sunglint_raster import add_sgi_b8a_b3, add_abascal_sun_glint_bands, print_s2_metadata_angles, expanded_into_mosaic, add_cloud_probability, plot_mosaic_scatter ,mosaic_scatter, add_sgi_b12_b3\n",
    "import pandas as pd\n",
    "from shapely.geometry import Polygon, Point\n",
    "\n",
    "# ee.Authenticate()\n",
    "ee.Initialize()\n",
    "print('Earth Engine initialized.')\n"
   ]
  },
  {
   "cell_type": "markdown",
   "id": "48f53f4f",
   "metadata": {},
   "source": [
    "### Load Infrastructure in the Gulf of Mexico"
   ]
  },
  {
   "cell_type": "code",
   "execution_count": null,
   "id": "bbbb316a",
   "metadata": {},
   "outputs": [],
   "source": [
    "\n",
    "infra = pd.read_csv(r\"C:\\Users\\ebeva\\SkyTruth\\methane\\nonoise_SAR_fixed_infrastructure.csv\")\n",
    "\n",
    "# 1. Define the Gulf of Mexico bounding box\n",
    "min_lon, min_lat = -98.0, 24.0\n",
    "max_lon, max_lat = -80.5, 31.0\n",
    "\n",
    "# Define the polygon as a shapely Polygon (longitude, latitude order)\n",
    "gulf_poly = Polygon([\n",
    "    (-90.384631, 23.859054),\n",
    "    (-90.384631, 28.645609),\n",
    "    (-85.68112, 28.645609),\n",
    "    (-85.68112, 23.859054),\n",
    "    (-90.384631, 23.859054)\n",
    "])\n",
    "\n",
    "# Create GeoDataFrame from infra DataFrame\n",
    "gdf = gpd.GeoDataFrame(\n",
    "    infra,\n",
    "    geometry=[Point(xy) for xy in zip(infra['lon'], infra['lat'])],\n",
    "    crs=\"EPSG:4326\"\n",
    ")\n",
    "\n",
    "# Filter gdf by whether points are within the polygon\n",
    "gdf_gulf = gdf[gdf.geometry.within(gulf_poly)]\n",
    "gdf_gulf.plot()"
   ]
  },
  {
   "cell_type": "markdown",
   "id": "92a7847e",
   "metadata": {},
   "source": [
    "### Find a specific infrastructure in the gulf"
   ]
  },
  {
   "cell_type": "code",
   "execution_count": null,
   "id": "dc4a1415",
   "metadata": {},
   "outputs": [],
   "source": [
    "\n",
    "# infra.sample(1)\n",
    "row = gdf_gulf.sample(1).iloc[0]\n",
    "stationary_infra = ee.Geometry.Point([row['lon'], row['lat']])\n",
    "Map = geemap.Map()\n",
    "Map.addLayer(stationary_infra)\n",
    "Map.centerObject(stationary_infra, 6)\n",
    "Map"
   ]
  },
  {
   "cell_type": "markdown",
   "id": "c7c5077e",
   "metadata": {},
   "source": [
    "### Pull Imagery and display"
   ]
  },
  {
   "cell_type": "code",
   "execution_count": null,
   "id": "3b2c84a4",
   "metadata": {},
   "outputs": [],
   "source": [
    "def get_s2_collection(start_date, end_date, stationary_infra, cloud_percent=20):\n",
    "    return (\n",
    "        ee.ImageCollection('COPERNICUS/S2_SR')\n",
    "        .filterDate(start_date, end_date)\n",
    "        .filterBounds(stationary_infra)\n",
    "        .filter(ee.Filter.lt('CLOUDY_PIXEL_PERCENTAGE', cloud_percent))\n",
    "    )\n",
    "\n",
    "s2 = get_s2_collection('2018-01-01', '2025-12-01', stationary_infra=stationary_infra)"
   ]
  },
  {
   "cell_type": "code",
   "execution_count": null,
   "id": "cbfe9065",
   "metadata": {},
   "outputs": [],
   "source": [
    "sorted_s2 = s2.sort('MEAN_SOLAR_ZENITH_ANGLE').toList(10)\n",
    "idx = 1\n",
    "glint_example = ee.Image(sorted_s2.get(idx))"
   ]
  },
  {
   "cell_type": "code",
   "execution_count": null,
   "id": "2b0c8020",
   "metadata": {},
   "outputs": [],
   "source": [
    "print_s2_metadata_angles(glint_example)"
   ]
  },
  {
   "cell_type": "code",
   "execution_count": null,
   "id": "5e589dab",
   "metadata": {},
   "outputs": [],
   "source": [
    "\n",
    "# sgi_b8a_b3 = add_sgi_b8a_b3(glint_example).select(\"sgi_b8a_b3\")\n",
    "# abascal_glint_score = add_abascal_sun_glint_bands(glint_example).select(\"abascal_glint_score\")\n",
    "abascal_glint_score = expanded_into_mosaic(glint_example, band_operation_fn=add_abascal_sun_glint_bands, band_name=\"abascal_glint_score\")\n",
    "sgi_b8a_b3 = expanded_into_mosaic(glint_example,add_sgi_b8a_b3,\"sgi_b8a_b3\")\n",
    "sgi_b12_b3 = expanded_into_mosaic(glint_example,add_sgi_b12_b3,\"sgi_b12_b3\")\n",
    "glint_example_cloud = expanded_into_mosaic(glint_example, add_cloud_probability, \"cloud_probability\")\n",
    "glint_example_mosiac = expanded_into_mosaic(glint_example)"
   ]
  },
  {
   "cell_type": "code",
   "execution_count": null,
   "id": "b6bd5219",
   "metadata": {},
   "outputs": [],
   "source": [
    "# Visualize RGB - .visualize(bands=['B4', 'B3', 'B2'], min=0, max=4000)\n",
    "# Visualize single band {'min': -1, 'max': 1, 'palette': ['blue', 'white', 'red']}\n",
    "Map = geemap.Map()\n",
    "\n",
    "Map.addLayer(glint_example_mosiac.visualize(bands=['B12'], min=0, max=3000),{}, 'S2 b12', False)\n",
    "# Map.addLayer(glint_example_cloud, {'min': 0, 'max': 100, 'palette': ['blue', 'white', 'red']}, \"cloud_probability\", False)\n",
    "# Map.addLayer(abascal_glint_score, {'min': 0, 'max': 20, 'palette': ['blue', 'white', 'red']}, \"abascal_glint\", False)\n",
    "\n",
    "\n",
    "Map.addLayer(sgi_b8a_b3, {'min': -.5, 'max': .5, 'palette': ['blue', 'white', 'red']}, \"sgi_b8a_b3\")\n",
    "Map.addLayer(sgi_b12_b3, {'min': -.5, 'max': .5, 'palette': ['blue', 'white', 'red']}, \"sgi_b12_b3\")\n",
    "\n",
    "#Zhang et al. SGI < -0.5 indicates no glint, i,e glint is -0.5 and above\n",
    "Map.addLayer(sgi_b12_b3.gt(-0.1), {'min': -.5, 'max': .5, 'palette': ['blue', 'white', 'red']}, \"sgi_mask\")\n",
    "\n",
    "Map.addLayer(sgi_b12_b3.subtract(sgi_b8a_b3), {'min': -.05, 'max': .05, 'palette': ['blue', 'white', 'red']}, \"subtract\", False)\n",
    "Map.addLayer(glint_example_mosiac.visualize(bands=['B4', 'B3', 'B2'], min=0, max=4000),{}, 'Color S2')\n",
    "Map.addLayer(stationary_infra,{'color': 'red'}, 'Stationary')\n",
    "\n",
    "Map.centerObject(stationary_infra, 9)\n",
    "Map"
   ]
  },
  {
   "cell_type": "code",
   "execution_count": null,
   "id": "bd0fde10",
   "metadata": {},
   "outputs": [],
   "source": [
    "# roi_feature = Map.draw_last_feature\n",
    "# if roi_feature is not None:\n",
    "#     scatter = mosaic_scatter(glint_example_mosiac.select(\"B4\"), sgi_b8a_b3, roi_feature.geometry()) #bx_name=\"B13\", by_name=\"SGI\")\n"
   ]
  },
  {
   "cell_type": "code",
   "execution_count": null,
   "id": "acf2405a",
   "metadata": {},
   "outputs": [],
   "source": []
  }
 ],
 "metadata": {
  "kernelspec": {
   "display_name": "Python 3",
   "language": "python",
   "name": "python3"
  },
  "language_info": {
   "codemirror_mode": {
    "name": "ipython",
    "version": 3
   },
   "file_extension": ".py",
   "mimetype": "text/x-python",
   "name": "python",
   "nbconvert_exporter": "python",
   "pygments_lexer": "ipython3",
   "version": "3.13.3"
  }
 },
 "nbformat": 4,
 "nbformat_minor": 5
}
