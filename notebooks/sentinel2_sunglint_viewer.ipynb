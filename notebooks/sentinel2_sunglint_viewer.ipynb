{
 "cells": [
  {
   "cell_type": "markdown",
   "id": "c1cf696c",
   "metadata": {},
   "source": [
    "# Sentinel-2 Sunglint Finder with Earth Engine Python API\n",
    "\n",
    "This notebook shows how to find Sentinel-2 scenes over sunglint geometry using the Earth Engine Python API.  \n",
    "Adjust the `bbox`, `start_date`, `end_date`, and other parameters as needed.\n"
   ]
  },
  {
   "cell_type": "code",
   "execution_count": null,
   "id": "588b0818",
   "metadata": {},
   "outputs": [],
   "source": [
    "# 1. Install and import Earth Engine Python API\n",
    "# Uncomment the following line if running in Colab or a new environment:\n",
    "# !pip install earthengine-api\n",
    "%load_ext autoreload\n",
    "%autoreload 2\n",
    "\n",
    "import ee\n",
    "import math\n",
    "import geopandas as gpd\n",
    "from shapely import Point\n",
    "import geemap\n",
    "from sunglint_raster import add_b8a_b3_sgi, add_abascal_sun_glint_bands\n",
    "\n",
    "\n",
    "# Initialize the Earth Engine client. \n",
    "# If running for the first time, you may need to authenticate:\n",
    "# ee.Authenticate()\n",
    "ee.Initialize()\n",
    "print('Earth Engine initialized.')\n"
   ]
  },
  {
   "cell_type": "code",
   "execution_count": null,
   "id": "5ec11309",
   "metadata": {},
   "outputs": [],
   "source": []
  },
  {
   "cell_type": "code",
   "execution_count": null,
   "id": "30db2080",
   "metadata": {},
   "outputs": [],
   "source": []
  },
  {
   "cell_type": "code",
   "execution_count": null,
   "id": "4e66a799",
   "metadata": {},
   "outputs": [],
   "source": [
    "import pandas as pd\n",
    "infra = pd.read_csv(r\"C:\\Users\\ebeva\\SkyTruth\\methane\\nonoise_SAR_fixed_infrastructure.csv\")\n",
    "\n",
    "# 1. Define the Gulf of Mexico bounding box\n",
    "min_lon, min_lat = -98.0, 24.0\n",
    "max_lon, max_lat = -80.5, 31.0\n",
    "\n"
   ]
  },
  {
   "cell_type": "code",
   "execution_count": null,
   "id": "bbbb316a",
   "metadata": {},
   "outputs": [],
   "source": [
    "from shapely.geometry import Polygon, Point\n",
    "import geopandas as gpd\n",
    "\n",
    "# Define the polygon as a shapely Polygon (longitude, latitude order)\n",
    "gulf_poly = Polygon([\n",
    "    (-90.384631, 23.859054),\n",
    "    (-90.384631, 28.645609),\n",
    "    (-85.68112, 28.645609),\n",
    "    (-85.68112, 23.859054),\n",
    "    (-90.384631, 23.859054)\n",
    "])\n",
    "\n",
    "# Create GeoDataFrame from infra DataFrame\n",
    "gdf = gpd.GeoDataFrame(\n",
    "    infra,\n",
    "    geometry=[Point(xy) for xy in zip(infra['lon'], infra['lat'])],\n",
    "    crs=\"EPSG:4326\"\n",
    ")\n",
    "\n",
    "# Filter gdf by whether points are within the polygon\n",
    "gdf_gulf = gdf[gdf.geometry.within(gulf_poly)]\n",
    "gdf_gulf.plot()"
   ]
  },
  {
   "cell_type": "code",
   "execution_count": null,
   "id": "dc4a1415",
   "metadata": {},
   "outputs": [],
   "source": [
    "\n",
    "# infra.sample(1)\n",
    "row = gdf_gulf.sample(1).iloc[0]\n",
    "stationary_infra = ee.Geometry.Point([row['lon'], row['lat']])\n",
    "Map = geemap.Map()\n",
    "Map.addLayer(stationary_infra)\n",
    "Map.centerObject(stationary_infra, 8)\n",
    "Map"
   ]
  },
  {
   "cell_type": "code",
   "execution_count": null,
   "id": "3b2c84a4",
   "metadata": {},
   "outputs": [],
   "source": [
    "def get_s2_collection(start_date, end_date, stationary_infra, cloud_percent=20):\n",
    "    return (\n",
    "        ee.ImageCollection('COPERNICUS/S2_SR')\n",
    "        .filterDate(start_date, end_date)\n",
    "        .filterBounds(stationary_infra)\n",
    "        .filter(ee.Filter.lt('CLOUDY_PIXEL_PERCENTAGE', cloud_percent))\n",
    "    )\n",
    "\n",
    "s2 = get_s2_collection('2018-01-01', '2025-12-01', stationary_infra=stationary_infra)"
   ]
  },
  {
   "cell_type": "code",
   "execution_count": null,
   "id": "cbfe9065",
   "metadata": {},
   "outputs": [],
   "source": [
    "sorted_s2 = s2.sort('MEAN_SOLAR_ZENITH_ANGLE').toList(10)\n",
    "idx = 2\n",
    "high_glint_fract = ee.Image(sorted_s2.get(idx))"
   ]
  },
  {
   "cell_type": "code",
   "execution_count": null,
   "id": "2b0c8020",
   "metadata": {},
   "outputs": [],
   "source": [
    "print_s2_metadata_angles(high_glint_fract)"
   ]
  },
  {
   "cell_type": "code",
   "execution_count": null,
   "id": "b6bd5219",
   "metadata": {},
   "outputs": [],
   "source": [
    "# Visualize RGB - .visualize(bands=['B4', 'B3', 'B2'], min=0, max=4000)\n",
    "# Visualize single band {'min': -1, 'max': 1, 'palette': ['blue', 'white', 'red']}\n",
    "\n",
    "Map.addLayer(stationary_infra,{'color': 'red'}, 'Stationary')\n",
    "Map.centerObject(stationary_infra, 9)\n",
    "Map"
   ]
  }
 ],
 "metadata": {
  "kernelspec": {
   "display_name": "Python 3",
   "language": "python",
   "name": "python3"
  },
  "language_info": {
   "codemirror_mode": {
    "name": "ipython",
    "version": 3
   },
   "file_extension": ".py",
   "mimetype": "text/x-python",
   "name": "python",
   "nbconvert_exporter": "python",
   "pygments_lexer": "ipython3",
   "version": "3.13.3"
  }
 },
 "nbformat": 4,
 "nbformat_minor": 5
}
